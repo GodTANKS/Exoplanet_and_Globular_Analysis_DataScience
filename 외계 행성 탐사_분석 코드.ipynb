{
  "cells": [
    {
      "cell_type": "markdown",
      "source": [
        "# **탐구활동 1. 발견된 외계 행성계의 위치와 연도별로 발견된 외계 행성의 질량 나타내기**"
      ],
      "metadata": {
        "id": "PTmQox0ZDXnw"
      }
    },
    {
      "cell_type": "markdown",
      "source": [
        "# **1 데이터 수집 및 탐색**"
      ],
      "metadata": {
        "id": "QcgibTsR1rnS"
      }
    },
    {
      "cell_type": "markdown",
      "source": [
        "## **1.1 데이터 수집**"
      ],
      "metadata": {
        "id": "OTrVityE1_5G"
      }
    },
    {
      "cell_type": "markdown",
      "source": [
        "### **1.1.1 패키지 라이브러리 불러오기**"
      ],
      "metadata": {
        "id": "u_ZxeUdW2F5D"
      }
    },
    {
      "cell_type": "code",
      "source": [
        "!pip install pandas\n",
        "!pip install astropy"
      ],
      "metadata": {
        "id": "Uyt_2Ld_AmSr"
      },
      "execution_count": 1,
      "outputs": []
    },
    {
      "cell_type": "code",
      "source": [
        "# 패키지 라이브러리 불러오기\n",
        "from google.colab import files # colab으로 파일 불러오기\n",
        "import pandas as pd # 데이터 분석 패키지\n",
        "import numpy as np # 수치 분석 패키지지\n",
        "import matplotlib.pyplot as plt # 그래프 패키지\n",
        "from mpl_toolkits.mplot3d import Axes3D # 3차원 그래프 모듈 \n",
        "from astropy import units as u # 천문 단위 분석 패키지\n",
        "from astropy.coordinates import SkyCoord # 천문 좌표게 분석 패키지"
      ],
      "metadata": {
        "id": "PiqS_aOe0Ccv"
      },
      "execution_count": 2,
      "outputs": []
    },
    {
      "cell_type": "markdown",
      "source": [
        "### **1.1.2 분석할 데이터 불러오기**"
      ],
      "metadata": {
        "id": "ub5obH-sNgA_"
      }
    },
    {
      "cell_type": "markdown",
      "source": [
        "*   'exoplanet.eu_catalog_2022' 이라는 제목을 가진 csv 파일을 업로드 합니다.  \n",
        "\n",
        "\n",
        "\n",
        "\n",
        "\n"
      ],
      "metadata": {
        "id": "OoANOyVC2crV"
      }
    },
    {
      "cell_type": "code",
      "source": [
        "uploaded = files.upload()\n",
        "df = pd.read_csv('exoplanet.eu_catalog_2022.csv') # 외계 행성 5284개 csv파일 불러오기"
      ],
      "metadata": {
        "colab": {
          "base_uri": "https://localhost:8080/",
          "height": 77
        },
        "id": "nEOelkC3MiFq",
        "outputId": "11bfa178-8ccf-4ca8-8223-892e66e27108"
      },
      "execution_count": 3,
      "outputs": [
        {
          "output_type": "display_data",
          "data": {
            "text/plain": [
              "<IPython.core.display.HTML object>"
            ],
            "text/html": [
              "\n",
              "     <input type=\"file\" id=\"files-fbc38e63-f399-4f8e-922b-7bbbf0032cba\" name=\"files[]\" multiple disabled\n",
              "        style=\"border:none\" />\n",
              "     <output id=\"result-fbc38e63-f399-4f8e-922b-7bbbf0032cba\">\n",
              "      Upload widget is only available when the cell has been executed in the\n",
              "      current browser session. Please rerun this cell to enable.\n",
              "      </output>\n",
              "      <script>// Copyright 2017 Google LLC\n",
              "//\n",
              "// Licensed under the Apache License, Version 2.0 (the \"License\");\n",
              "// you may not use this file except in compliance with the License.\n",
              "// You may obtain a copy of the License at\n",
              "//\n",
              "//      http://www.apache.org/licenses/LICENSE-2.0\n",
              "//\n",
              "// Unless required by applicable law or agreed to in writing, software\n",
              "// distributed under the License is distributed on an \"AS IS\" BASIS,\n",
              "// WITHOUT WARRANTIES OR CONDITIONS OF ANY KIND, either express or implied.\n",
              "// See the License for the specific language governing permissions and\n",
              "// limitations under the License.\n",
              "\n",
              "/**\n",
              " * @fileoverview Helpers for google.colab Python module.\n",
              " */\n",
              "(function(scope) {\n",
              "function span(text, styleAttributes = {}) {\n",
              "  const element = document.createElement('span');\n",
              "  element.textContent = text;\n",
              "  for (const key of Object.keys(styleAttributes)) {\n",
              "    element.style[key] = styleAttributes[key];\n",
              "  }\n",
              "  return element;\n",
              "}\n",
              "\n",
              "// Max number of bytes which will be uploaded at a time.\n",
              "const MAX_PAYLOAD_SIZE = 100 * 1024;\n",
              "\n",
              "function _uploadFiles(inputId, outputId) {\n",
              "  const steps = uploadFilesStep(inputId, outputId);\n",
              "  const outputElement = document.getElementById(outputId);\n",
              "  // Cache steps on the outputElement to make it available for the next call\n",
              "  // to uploadFilesContinue from Python.\n",
              "  outputElement.steps = steps;\n",
              "\n",
              "  return _uploadFilesContinue(outputId);\n",
              "}\n",
              "\n",
              "// This is roughly an async generator (not supported in the browser yet),\n",
              "// where there are multiple asynchronous steps and the Python side is going\n",
              "// to poll for completion of each step.\n",
              "// This uses a Promise to block the python side on completion of each step,\n",
              "// then passes the result of the previous step as the input to the next step.\n",
              "function _uploadFilesContinue(outputId) {\n",
              "  const outputElement = document.getElementById(outputId);\n",
              "  const steps = outputElement.steps;\n",
              "\n",
              "  const next = steps.next(outputElement.lastPromiseValue);\n",
              "  return Promise.resolve(next.value.promise).then((value) => {\n",
              "    // Cache the last promise value to make it available to the next\n",
              "    // step of the generator.\n",
              "    outputElement.lastPromiseValue = value;\n",
              "    return next.value.response;\n",
              "  });\n",
              "}\n",
              "\n",
              "/**\n",
              " * Generator function which is called between each async step of the upload\n",
              " * process.\n",
              " * @param {string} inputId Element ID of the input file picker element.\n",
              " * @param {string} outputId Element ID of the output display.\n",
              " * @return {!Iterable<!Object>} Iterable of next steps.\n",
              " */\n",
              "function* uploadFilesStep(inputId, outputId) {\n",
              "  const inputElement = document.getElementById(inputId);\n",
              "  inputElement.disabled = false;\n",
              "\n",
              "  const outputElement = document.getElementById(outputId);\n",
              "  outputElement.innerHTML = '';\n",
              "\n",
              "  const pickedPromise = new Promise((resolve) => {\n",
              "    inputElement.addEventListener('change', (e) => {\n",
              "      resolve(e.target.files);\n",
              "    });\n",
              "  });\n",
              "\n",
              "  const cancel = document.createElement('button');\n",
              "  inputElement.parentElement.appendChild(cancel);\n",
              "  cancel.textContent = 'Cancel upload';\n",
              "  const cancelPromise = new Promise((resolve) => {\n",
              "    cancel.onclick = () => {\n",
              "      resolve(null);\n",
              "    };\n",
              "  });\n",
              "\n",
              "  // Wait for the user to pick the files.\n",
              "  const files = yield {\n",
              "    promise: Promise.race([pickedPromise, cancelPromise]),\n",
              "    response: {\n",
              "      action: 'starting',\n",
              "    }\n",
              "  };\n",
              "\n",
              "  cancel.remove();\n",
              "\n",
              "  // Disable the input element since further picks are not allowed.\n",
              "  inputElement.disabled = true;\n",
              "\n",
              "  if (!files) {\n",
              "    return {\n",
              "      response: {\n",
              "        action: 'complete',\n",
              "      }\n",
              "    };\n",
              "  }\n",
              "\n",
              "  for (const file of files) {\n",
              "    const li = document.createElement('li');\n",
              "    li.append(span(file.name, {fontWeight: 'bold'}));\n",
              "    li.append(span(\n",
              "        `(${file.type || 'n/a'}) - ${file.size} bytes, ` +\n",
              "        `last modified: ${\n",
              "            file.lastModifiedDate ? file.lastModifiedDate.toLocaleDateString() :\n",
              "                                    'n/a'} - `));\n",
              "    const percent = span('0% done');\n",
              "    li.appendChild(percent);\n",
              "\n",
              "    outputElement.appendChild(li);\n",
              "\n",
              "    const fileDataPromise = new Promise((resolve) => {\n",
              "      const reader = new FileReader();\n",
              "      reader.onload = (e) => {\n",
              "        resolve(e.target.result);\n",
              "      };\n",
              "      reader.readAsArrayBuffer(file);\n",
              "    });\n",
              "    // Wait for the data to be ready.\n",
              "    let fileData = yield {\n",
              "      promise: fileDataPromise,\n",
              "      response: {\n",
              "        action: 'continue',\n",
              "      }\n",
              "    };\n",
              "\n",
              "    // Use a chunked sending to avoid message size limits. See b/62115660.\n",
              "    let position = 0;\n",
              "    do {\n",
              "      const length = Math.min(fileData.byteLength - position, MAX_PAYLOAD_SIZE);\n",
              "      const chunk = new Uint8Array(fileData, position, length);\n",
              "      position += length;\n",
              "\n",
              "      const base64 = btoa(String.fromCharCode.apply(null, chunk));\n",
              "      yield {\n",
              "        response: {\n",
              "          action: 'append',\n",
              "          file: file.name,\n",
              "          data: base64,\n",
              "        },\n",
              "      };\n",
              "\n",
              "      let percentDone = fileData.byteLength === 0 ?\n",
              "          100 :\n",
              "          Math.round((position / fileData.byteLength) * 100);\n",
              "      percent.textContent = `${percentDone}% done`;\n",
              "\n",
              "    } while (position < fileData.byteLength);\n",
              "  }\n",
              "\n",
              "  // All done.\n",
              "  yield {\n",
              "    response: {\n",
              "      action: 'complete',\n",
              "    }\n",
              "  };\n",
              "}\n",
              "\n",
              "scope.google = scope.google || {};\n",
              "scope.google.colab = scope.google.colab || {};\n",
              "scope.google.colab._files = {\n",
              "  _uploadFiles,\n",
              "  _uploadFilesContinue,\n",
              "};\n",
              "})(self);\n",
              "</script> "
            ]
          },
          "metadata": {}
        },
        {
          "output_type": "stream",
          "name": "stdout",
          "text": [
            "Saving exoplanet.eu_catalog_2022.csv to exoplanet.eu_catalog_2022.csv\n"
          ]
        }
      ]
    },
    {
      "cell_type": "markdown",
      "source": [
        "## **1.2 데이터 기본 통계 정보**"
      ],
      "metadata": {
        "id": "VaSNUfCB3Abl"
      }
    },
    {
      "cell_type": "markdown",
      "source": [
        "### **1.2.1 전체 정보 확인하기**"
      ],
      "metadata": {
        "id": "cC_vCsRZ3ISk"
      }
    },
    {
      "cell_type": "markdown",
      "source": [
        "*   분석하려는 외계 행성 데이터의 전체적인 정보를 확인합니다.\n",
        "*   행(rows) 5284개, 열(columns) 98개를 가진 테이블 구조입니다. "
      ],
      "metadata": {
        "id": "8zhTPiPO3QUa"
      }
    },
    {
      "cell_type": "code",
      "source": [
        "display(df) # 전체 데이터"
      ],
      "metadata": {
        "colab": {
          "base_uri": "https://localhost:8080/",
          "height": 852
        },
        "id": "Zljhfp91Nd7I",
        "outputId": "927c57c7-8fdd-48f6-ff44-f7fbc066bcfb"
      },
      "execution_count": 4,
      "outputs": [
        {
          "output_type": "display_data",
          "data": {
            "text/plain": [
              "         # name planet_status   mass  mass_error_min  mass_error_max  \\\n",
              "0      11 Com b     Confirmed    NaN             NaN             NaN   \n",
              "1      11 Oph b     Confirmed  21.00            3.00            3.00   \n",
              "2      11 UMi b     Confirmed    NaN             NaN             NaN   \n",
              "3      14 And b     Confirmed    NaN             NaN             NaN   \n",
              "4      14 Her b     Confirmed   9.10             NaN             NaN   \n",
              "...         ...           ...    ...             ...             ...   \n",
              "5279  ups And c     Confirmed   9.10            2.93            5.04   \n",
              "5280  ups And d     Confirmed  23.58            2.29            2.93   \n",
              "5281  ups And e     Confirmed    NaN             NaN             NaN   \n",
              "5282  ups Leo b     Confirmed    NaN             NaN             NaN   \n",
              "5283  zet Del B     Confirmed  40.00            5.00           15.00   \n",
              "\n",
              "      mass_sini  mass_sini_error_min  mass_sini_error_max  radius  \\\n",
              "0       16.1284                1.500                1.500     NaN   \n",
              "1           NaN                  NaN                  NaN     NaN   \n",
              "2       11.0873                1.100                1.100     NaN   \n",
              "3        4.6840                0.230                0.230     NaN   \n",
              "4        5.2150                  NaN                  NaN     NaN   \n",
              "...         ...                  ...                  ...     ...   \n",
              "5279     1.8000                0.260                0.260     NaN   \n",
              "5280    10.1900                  NaN                  NaN     NaN   \n",
              "5281     1.0590                0.028                0.028     NaN   \n",
              "5282     0.5100                0.260                0.080     NaN   \n",
              "5283        NaN                  NaN                  NaN     NaN   \n",
              "\n",
              "      radius_error_min  ...  star_sp_type  star_age  star_age_error_min  \\\n",
              "0                  NaN  ...        G8 III       NaN                 NaN   \n",
              "1                  NaN  ...            M9     0.011               0.002   \n",
              "2                  NaN  ...         K4III     1.560               0.540   \n",
              "3                  NaN  ...         K0III       NaN                 NaN   \n",
              "4                  NaN  ...          K0 V     5.100                 NaN   \n",
              "...                ...  ...           ...       ...                 ...   \n",
              "5279               NaN  ...          F8 V     3.800               1.000   \n",
              "5280               NaN  ...          F8 V     3.800               1.000   \n",
              "5281               NaN  ...          F8 V     3.800               1.000   \n",
              "5282               NaN  ...        G9 III       NaN                 NaN   \n",
              "5283               NaN  ...           A3V     0.525               0.125   \n",
              "\n",
              "      star_age_error_max  star_teff  star_teff_error_min  star_teff_error_max  \\\n",
              "0                    NaN     4742.0                100.0                100.0   \n",
              "1                  0.002     2375.0                175.0                175.0   \n",
              "2                  0.540     4340.0                 70.0                 70.0   \n",
              "3                    NaN     4813.0                 20.0                 20.0   \n",
              "4                    NaN     5311.0                 87.0                 87.0   \n",
              "...                  ...        ...                  ...                  ...   \n",
              "5279               1.000     6212.0                 80.0                 80.0   \n",
              "5280               1.000     6212.0                 80.0                 80.0   \n",
              "5281               1.000     6212.0                 80.0                 80.0   \n",
              "5282                 NaN        NaN                  NaN                  NaN   \n",
              "5283               0.125     8336.0                  NaN                  NaN   \n",
              "\n",
              "      star_detected_disc  star_magnetic_field  \\\n",
              "0                    NaN                  NaN   \n",
              "1                    NaN                  NaN   \n",
              "2                    NaN                  NaN   \n",
              "3                    NaN                  NaN   \n",
              "4                    NaN                  NaN   \n",
              "...                  ...                  ...   \n",
              "5279                 NaN                  NaN   \n",
              "5280                 NaN                  NaN   \n",
              "5281                 NaN                  NaN   \n",
              "5282                 NaN                  NaN   \n",
              "5283                 NaN                  NaN   \n",
              "\n",
              "                                star_alternate_names  \n",
              "0                                                NaN  \n",
              "1                             Oph 1622-2405, Oph 11A  \n",
              "2                                                NaN  \n",
              "3                                                NaN  \n",
              "4                                                NaN  \n",
              "...                                              ...  \n",
              "5279                                             NaN  \n",
              "5280                                             NaN  \n",
              "5281                                             NaN  \n",
              "5282                                             NaN  \n",
              "5283  HD 196180, HIP 101589, 2MASS J20351852+1440272  \n",
              "\n",
              "[5284 rows x 98 columns]"
            ],
            "text/html": [
              "\n",
              "  <div id=\"df-1adf2b34-887c-4089-b6ee-f3c1986f2351\">\n",
              "    <div class=\"colab-df-container\">\n",
              "      <div>\n",
              "<style scoped>\n",
              "    .dataframe tbody tr th:only-of-type {\n",
              "        vertical-align: middle;\n",
              "    }\n",
              "\n",
              "    .dataframe tbody tr th {\n",
              "        vertical-align: top;\n",
              "    }\n",
              "\n",
              "    .dataframe thead th {\n",
              "        text-align: right;\n",
              "    }\n",
              "</style>\n",
              "<table border=\"1\" class=\"dataframe\">\n",
              "  <thead>\n",
              "    <tr style=\"text-align: right;\">\n",
              "      <th></th>\n",
              "      <th># name</th>\n",
              "      <th>planet_status</th>\n",
              "      <th>mass</th>\n",
              "      <th>mass_error_min</th>\n",
              "      <th>mass_error_max</th>\n",
              "      <th>mass_sini</th>\n",
              "      <th>mass_sini_error_min</th>\n",
              "      <th>mass_sini_error_max</th>\n",
              "      <th>radius</th>\n",
              "      <th>radius_error_min</th>\n",
              "      <th>...</th>\n",
              "      <th>star_sp_type</th>\n",
              "      <th>star_age</th>\n",
              "      <th>star_age_error_min</th>\n",
              "      <th>star_age_error_max</th>\n",
              "      <th>star_teff</th>\n",
              "      <th>star_teff_error_min</th>\n",
              "      <th>star_teff_error_max</th>\n",
              "      <th>star_detected_disc</th>\n",
              "      <th>star_magnetic_field</th>\n",
              "      <th>star_alternate_names</th>\n",
              "    </tr>\n",
              "  </thead>\n",
              "  <tbody>\n",
              "    <tr>\n",
              "      <th>0</th>\n",
              "      <td>11 Com b</td>\n",
              "      <td>Confirmed</td>\n",
              "      <td>NaN</td>\n",
              "      <td>NaN</td>\n",
              "      <td>NaN</td>\n",
              "      <td>16.1284</td>\n",
              "      <td>1.500</td>\n",
              "      <td>1.500</td>\n",
              "      <td>NaN</td>\n",
              "      <td>NaN</td>\n",
              "      <td>...</td>\n",
              "      <td>G8 III</td>\n",
              "      <td>NaN</td>\n",
              "      <td>NaN</td>\n",
              "      <td>NaN</td>\n",
              "      <td>4742.0</td>\n",
              "      <td>100.0</td>\n",
              "      <td>100.0</td>\n",
              "      <td>NaN</td>\n",
              "      <td>NaN</td>\n",
              "      <td>NaN</td>\n",
              "    </tr>\n",
              "    <tr>\n",
              "      <th>1</th>\n",
              "      <td>11 Oph b</td>\n",
              "      <td>Confirmed</td>\n",
              "      <td>21.00</td>\n",
              "      <td>3.00</td>\n",
              "      <td>3.00</td>\n",
              "      <td>NaN</td>\n",
              "      <td>NaN</td>\n",
              "      <td>NaN</td>\n",
              "      <td>NaN</td>\n",
              "      <td>NaN</td>\n",
              "      <td>...</td>\n",
              "      <td>M9</td>\n",
              "      <td>0.011</td>\n",
              "      <td>0.002</td>\n",
              "      <td>0.002</td>\n",
              "      <td>2375.0</td>\n",
              "      <td>175.0</td>\n",
              "      <td>175.0</td>\n",
              "      <td>NaN</td>\n",
              "      <td>NaN</td>\n",
              "      <td>Oph 1622-2405, Oph 11A</td>\n",
              "    </tr>\n",
              "    <tr>\n",
              "      <th>2</th>\n",
              "      <td>11 UMi b</td>\n",
              "      <td>Confirmed</td>\n",
              "      <td>NaN</td>\n",
              "      <td>NaN</td>\n",
              "      <td>NaN</td>\n",
              "      <td>11.0873</td>\n",
              "      <td>1.100</td>\n",
              "      <td>1.100</td>\n",
              "      <td>NaN</td>\n",
              "      <td>NaN</td>\n",
              "      <td>...</td>\n",
              "      <td>K4III</td>\n",
              "      <td>1.560</td>\n",
              "      <td>0.540</td>\n",
              "      <td>0.540</td>\n",
              "      <td>4340.0</td>\n",
              "      <td>70.0</td>\n",
              "      <td>70.0</td>\n",
              "      <td>NaN</td>\n",
              "      <td>NaN</td>\n",
              "      <td>NaN</td>\n",
              "    </tr>\n",
              "    <tr>\n",
              "      <th>3</th>\n",
              "      <td>14 And b</td>\n",
              "      <td>Confirmed</td>\n",
              "      <td>NaN</td>\n",
              "      <td>NaN</td>\n",
              "      <td>NaN</td>\n",
              "      <td>4.6840</td>\n",
              "      <td>0.230</td>\n",
              "      <td>0.230</td>\n",
              "      <td>NaN</td>\n",
              "      <td>NaN</td>\n",
              "      <td>...</td>\n",
              "      <td>K0III</td>\n",
              "      <td>NaN</td>\n",
              "      <td>NaN</td>\n",
              "      <td>NaN</td>\n",
              "      <td>4813.0</td>\n",
              "      <td>20.0</td>\n",
              "      <td>20.0</td>\n",
              "      <td>NaN</td>\n",
              "      <td>NaN</td>\n",
              "      <td>NaN</td>\n",
              "    </tr>\n",
              "    <tr>\n",
              "      <th>4</th>\n",
              "      <td>14 Her b</td>\n",
              "      <td>Confirmed</td>\n",
              "      <td>9.10</td>\n",
              "      <td>NaN</td>\n",
              "      <td>NaN</td>\n",
              "      <td>5.2150</td>\n",
              "      <td>NaN</td>\n",
              "      <td>NaN</td>\n",
              "      <td>NaN</td>\n",
              "      <td>NaN</td>\n",
              "      <td>...</td>\n",
              "      <td>K0 V</td>\n",
              "      <td>5.100</td>\n",
              "      <td>NaN</td>\n",
              "      <td>NaN</td>\n",
              "      <td>5311.0</td>\n",
              "      <td>87.0</td>\n",
              "      <td>87.0</td>\n",
              "      <td>NaN</td>\n",
              "      <td>NaN</td>\n",
              "      <td>NaN</td>\n",
              "    </tr>\n",
              "    <tr>\n",
              "      <th>...</th>\n",
              "      <td>...</td>\n",
              "      <td>...</td>\n",
              "      <td>...</td>\n",
              "      <td>...</td>\n",
              "      <td>...</td>\n",
              "      <td>...</td>\n",
              "      <td>...</td>\n",
              "      <td>...</td>\n",
              "      <td>...</td>\n",
              "      <td>...</td>\n",
              "      <td>...</td>\n",
              "      <td>...</td>\n",
              "      <td>...</td>\n",
              "      <td>...</td>\n",
              "      <td>...</td>\n",
              "      <td>...</td>\n",
              "      <td>...</td>\n",
              "      <td>...</td>\n",
              "      <td>...</td>\n",
              "      <td>...</td>\n",
              "      <td>...</td>\n",
              "    </tr>\n",
              "    <tr>\n",
              "      <th>5279</th>\n",
              "      <td>ups And c</td>\n",
              "      <td>Confirmed</td>\n",
              "      <td>9.10</td>\n",
              "      <td>2.93</td>\n",
              "      <td>5.04</td>\n",
              "      <td>1.8000</td>\n",
              "      <td>0.260</td>\n",
              "      <td>0.260</td>\n",
              "      <td>NaN</td>\n",
              "      <td>NaN</td>\n",
              "      <td>...</td>\n",
              "      <td>F8 V</td>\n",
              "      <td>3.800</td>\n",
              "      <td>1.000</td>\n",
              "      <td>1.000</td>\n",
              "      <td>6212.0</td>\n",
              "      <td>80.0</td>\n",
              "      <td>80.0</td>\n",
              "      <td>NaN</td>\n",
              "      <td>NaN</td>\n",
              "      <td>NaN</td>\n",
              "    </tr>\n",
              "    <tr>\n",
              "      <th>5280</th>\n",
              "      <td>ups And d</td>\n",
              "      <td>Confirmed</td>\n",
              "      <td>23.58</td>\n",
              "      <td>2.29</td>\n",
              "      <td>2.93</td>\n",
              "      <td>10.1900</td>\n",
              "      <td>NaN</td>\n",
              "      <td>NaN</td>\n",
              "      <td>NaN</td>\n",
              "      <td>NaN</td>\n",
              "      <td>...</td>\n",
              "      <td>F8 V</td>\n",
              "      <td>3.800</td>\n",
              "      <td>1.000</td>\n",
              "      <td>1.000</td>\n",
              "      <td>6212.0</td>\n",
              "      <td>80.0</td>\n",
              "      <td>80.0</td>\n",
              "      <td>NaN</td>\n",
              "      <td>NaN</td>\n",
              "      <td>NaN</td>\n",
              "    </tr>\n",
              "    <tr>\n",
              "      <th>5281</th>\n",
              "      <td>ups And e</td>\n",
              "      <td>Confirmed</td>\n",
              "      <td>NaN</td>\n",
              "      <td>NaN</td>\n",
              "      <td>NaN</td>\n",
              "      <td>1.0590</td>\n",
              "      <td>0.028</td>\n",
              "      <td>0.028</td>\n",
              "      <td>NaN</td>\n",
              "      <td>NaN</td>\n",
              "      <td>...</td>\n",
              "      <td>F8 V</td>\n",
              "      <td>3.800</td>\n",
              "      <td>1.000</td>\n",
              "      <td>1.000</td>\n",
              "      <td>6212.0</td>\n",
              "      <td>80.0</td>\n",
              "      <td>80.0</td>\n",
              "      <td>NaN</td>\n",
              "      <td>NaN</td>\n",
              "      <td>NaN</td>\n",
              "    </tr>\n",
              "    <tr>\n",
              "      <th>5282</th>\n",
              "      <td>ups Leo b</td>\n",
              "      <td>Confirmed</td>\n",
              "      <td>NaN</td>\n",
              "      <td>NaN</td>\n",
              "      <td>NaN</td>\n",
              "      <td>0.5100</td>\n",
              "      <td>0.260</td>\n",
              "      <td>0.080</td>\n",
              "      <td>NaN</td>\n",
              "      <td>NaN</td>\n",
              "      <td>...</td>\n",
              "      <td>G9 III</td>\n",
              "      <td>NaN</td>\n",
              "      <td>NaN</td>\n",
              "      <td>NaN</td>\n",
              "      <td>NaN</td>\n",
              "      <td>NaN</td>\n",
              "      <td>NaN</td>\n",
              "      <td>NaN</td>\n",
              "      <td>NaN</td>\n",
              "      <td>NaN</td>\n",
              "    </tr>\n",
              "    <tr>\n",
              "      <th>5283</th>\n",
              "      <td>zet Del B</td>\n",
              "      <td>Confirmed</td>\n",
              "      <td>40.00</td>\n",
              "      <td>5.00</td>\n",
              "      <td>15.00</td>\n",
              "      <td>NaN</td>\n",
              "      <td>NaN</td>\n",
              "      <td>NaN</td>\n",
              "      <td>NaN</td>\n",
              "      <td>NaN</td>\n",
              "      <td>...</td>\n",
              "      <td>A3V</td>\n",
              "      <td>0.525</td>\n",
              "      <td>0.125</td>\n",
              "      <td>0.125</td>\n",
              "      <td>8336.0</td>\n",
              "      <td>NaN</td>\n",
              "      <td>NaN</td>\n",
              "      <td>NaN</td>\n",
              "      <td>NaN</td>\n",
              "      <td>HD 196180, HIP 101589, 2MASS J20351852+1440272</td>\n",
              "    </tr>\n",
              "  </tbody>\n",
              "</table>\n",
              "<p>5284 rows × 98 columns</p>\n",
              "</div>\n",
              "      <button class=\"colab-df-convert\" onclick=\"convertToInteractive('df-1adf2b34-887c-4089-b6ee-f3c1986f2351')\"\n",
              "              title=\"Convert this dataframe to an interactive table.\"\n",
              "              style=\"display:none;\">\n",
              "        \n",
              "  <svg xmlns=\"http://www.w3.org/2000/svg\" height=\"24px\"viewBox=\"0 0 24 24\"\n",
              "       width=\"24px\">\n",
              "    <path d=\"M0 0h24v24H0V0z\" fill=\"none\"/>\n",
              "    <path d=\"M18.56 5.44l.94 2.06.94-2.06 2.06-.94-2.06-.94-.94-2.06-.94 2.06-2.06.94zm-11 1L8.5 8.5l.94-2.06 2.06-.94-2.06-.94L8.5 2.5l-.94 2.06-2.06.94zm10 10l.94 2.06.94-2.06 2.06-.94-2.06-.94-.94-2.06-.94 2.06-2.06.94z\"/><path d=\"M17.41 7.96l-1.37-1.37c-.4-.4-.92-.59-1.43-.59-.52 0-1.04.2-1.43.59L10.3 9.45l-7.72 7.72c-.78.78-.78 2.05 0 2.83L4 21.41c.39.39.9.59 1.41.59.51 0 1.02-.2 1.41-.59l7.78-7.78 2.81-2.81c.8-.78.8-2.07 0-2.86zM5.41 20L4 18.59l7.72-7.72 1.47 1.35L5.41 20z\"/>\n",
              "  </svg>\n",
              "      </button>\n",
              "      \n",
              "  <style>\n",
              "    .colab-df-container {\n",
              "      display:flex;\n",
              "      flex-wrap:wrap;\n",
              "      gap: 12px;\n",
              "    }\n",
              "\n",
              "    .colab-df-convert {\n",
              "      background-color: #E8F0FE;\n",
              "      border: none;\n",
              "      border-radius: 50%;\n",
              "      cursor: pointer;\n",
              "      display: none;\n",
              "      fill: #1967D2;\n",
              "      height: 32px;\n",
              "      padding: 0 0 0 0;\n",
              "      width: 32px;\n",
              "    }\n",
              "\n",
              "    .colab-df-convert:hover {\n",
              "      background-color: #E2EBFA;\n",
              "      box-shadow: 0px 1px 2px rgba(60, 64, 67, 0.3), 0px 1px 3px 1px rgba(60, 64, 67, 0.15);\n",
              "      fill: #174EA6;\n",
              "    }\n",
              "\n",
              "    [theme=dark] .colab-df-convert {\n",
              "      background-color: #3B4455;\n",
              "      fill: #D2E3FC;\n",
              "    }\n",
              "\n",
              "    [theme=dark] .colab-df-convert:hover {\n",
              "      background-color: #434B5C;\n",
              "      box-shadow: 0px 1px 3px 1px rgba(0, 0, 0, 0.15);\n",
              "      filter: drop-shadow(0px 1px 2px rgba(0, 0, 0, 0.3));\n",
              "      fill: #FFFFFF;\n",
              "    }\n",
              "  </style>\n",
              "\n",
              "      <script>\n",
              "        const buttonEl =\n",
              "          document.querySelector('#df-1adf2b34-887c-4089-b6ee-f3c1986f2351 button.colab-df-convert');\n",
              "        buttonEl.style.display =\n",
              "          google.colab.kernel.accessAllowed ? 'block' : 'none';\n",
              "\n",
              "        async function convertToInteractive(key) {\n",
              "          const element = document.querySelector('#df-1adf2b34-887c-4089-b6ee-f3c1986f2351');\n",
              "          const dataTable =\n",
              "            await google.colab.kernel.invokeFunction('convertToInteractive',\n",
              "                                                     [key], {});\n",
              "          if (!dataTable) return;\n",
              "\n",
              "          const docLinkHtml = 'Like what you see? Visit the ' +\n",
              "            '<a target=\"_blank\" href=https://colab.research.google.com/notebooks/data_table.ipynb>data table notebook</a>'\n",
              "            + ' to learn more about interactive tables.';\n",
              "          element.innerHTML = '';\n",
              "          dataTable['output_type'] = 'display_data';\n",
              "          await google.colab.output.renderOutput(dataTable, element);\n",
              "          const docLink = document.createElement('div');\n",
              "          docLink.innerHTML = docLinkHtml;\n",
              "          element.appendChild(docLink);\n",
              "        }\n",
              "      </script>\n",
              "    </div>\n",
              "  </div>\n",
              "  "
            ]
          },
          "metadata": {}
        }
      ]
    },
    {
      "cell_type": "markdown",
      "source": [
        "### **1.2.2 요약 정보 확인하기**"
      ],
      "metadata": {
        "id": "ZpDB7WMQIwgF"
      }
    },
    {
      "cell_type": "markdown",
      "source": [
        "*   분석하려는 외계 행성 데이터의 요약 정보를 확인합니다.\n",
        "*   각 열의 행 개수, 데이터 유형(type)을 확인합니다. (float64:실수형, object:문자형)"
      ],
      "metadata": {
        "id": "V88EUYtp3ozL"
      }
    },
    {
      "cell_type": "code",
      "source": [
        "print(df.info()) # 요약 정보"
      ],
      "metadata": {
        "colab": {
          "base_uri": "https://localhost:8080/"
        },
        "id": "Peubb7kQOBnh",
        "outputId": "a32e3762-eeaa-4299-f16e-3fc8f29b9b8c"
      },
      "execution_count": 5,
      "outputs": [
        {
          "output_type": "stream",
          "name": "stdout",
          "text": [
            "<class 'pandas.core.frame.DataFrame'>\n",
            "RangeIndex: 5284 entries, 0 to 5283\n",
            "Data columns (total 98 columns):\n",
            " #   Column                      Non-Null Count  Dtype  \n",
            "---  ------                      --------------  -----  \n",
            " 0   # name                      5284 non-null   object \n",
            " 1   planet_status               5284 non-null   object \n",
            " 2   mass                        1811 non-null   float64\n",
            " 3   mass_error_min              1691 non-null   float64\n",
            " 4   mass_error_max              1678 non-null   float64\n",
            " 5   mass_sini                   1135 non-null   float64\n",
            " 6   mass_sini_error_min         977 non-null    float64\n",
            " 7   mass_sini_error_max         976 non-null    float64\n",
            " 8   radius                      3839 non-null   float64\n",
            " 9   radius_error_min            3683 non-null   float64\n",
            " 10  radius_error_max            3683 non-null   float64\n",
            " 11  orbital_period              4850 non-null   float64\n",
            " 12  orbital_period_error_min    4614 non-null   float64\n",
            " 13  orbital_period_error_max    4614 non-null   float64\n",
            " 14  semi_major_axis             3564 non-null   float64\n",
            " 15  semi_major_axis_error_min   2460 non-null   float64\n",
            " 16  semi_major_axis_error_max   2460 non-null   float64\n",
            " 17  eccentricity                2137 non-null   float64\n",
            " 18  eccentricity_error_min      1673 non-null   float64\n",
            " 19  eccentricity_error_max      1666 non-null   float64\n",
            " 20  inclination                 1488 non-null   float64\n",
            " 21  inclination_error_min       1344 non-null   float64\n",
            " 22  inclination_error_max       1344 non-null   float64\n",
            " 23  angular_distance            663 non-null    float64\n",
            " 24  discovered                  5276 non-null   float64\n",
            " 25  updated                     5284 non-null   object \n",
            " 26  omega                       1334 non-null   float64\n",
            " 27  omega_error_min             1251 non-null   float64\n",
            " 28  omega_error_max             1251 non-null   float64\n",
            " 29  tperi                       778 non-null    float64\n",
            " 30  tperi_error_min             722 non-null    float64\n",
            " 31  tperi_error_max             722 non-null    float64\n",
            " 32  tconj                       2660 non-null   float64\n",
            " 33  tconj_error_min             2592 non-null   float64\n",
            " 34  tconj_error_max             2592 non-null   float64\n",
            " 35  tzero_tr                    1261 non-null   float64\n",
            " 36  tzero_tr_error_min          1201 non-null   float64\n",
            " 37  tzero_tr_error_max          1201 non-null   float64\n",
            " 38  tzero_tr_sec                47 non-null     float64\n",
            " 39  tzero_tr_sec_error_min      45 non-null     float64\n",
            " 40  tzero_tr_sec_error_max      45 non-null     float64\n",
            " 41  lambda_angle                93 non-null     float64\n",
            " 42  lambda_angle_error_min      94 non-null     float64\n",
            " 43  lambda_angle_error_max      94 non-null     float64\n",
            " 44  impact_parameter            1817 non-null   float64\n",
            " 45  impact_parameter_error_min  1803 non-null   float64\n",
            " 46  impact_parameter_error_max  1803 non-null   float64\n",
            " 47  tzero_vr                    42 non-null     float64\n",
            " 48  tzero_vr_error_min          39 non-null     float64\n",
            " 49  tzero_vr_error_max          39 non-null     float64\n",
            " 50  k                           1327 non-null   float64\n",
            " 51  k_error_min                 1305 non-null   float64\n",
            " 52  k_error_max                 1305 non-null   float64\n",
            " 53  temp_calculated             1137 non-null   float64\n",
            " 54  temp_calculated_error_min   801 non-null    float64\n",
            " 55  temp_calculated_error_max   801 non-null    float64\n",
            " 56  temp_measured               59 non-null     float64\n",
            " 57  hot_point_lon               3 non-null      float64\n",
            " 58  geometric_albedo            16 non-null     float64\n",
            " 59  geometric_albedo_error_min  14 non-null     float64\n",
            " 60  geometric_albedo_error_max  14 non-null     float64\n",
            " 61  log_g                       52 non-null     float64\n",
            " 62  publication                 5284 non-null   object \n",
            " 63  detection_type              5284 non-null   object \n",
            " 64  mass_detection_type         1810 non-null   object \n",
            " 65  radius_detection_type       1166 non-null   object \n",
            " 66  alternate_names             3267 non-null   object \n",
            " 67  molecules                   102 non-null    object \n",
            " 68  star_name                   5180 non-null   object \n",
            " 69  ra                          5284 non-null   float64\n",
            " 70  dec                         5284 non-null   float64\n",
            " 71  mag_v                       2268 non-null   float64\n",
            " 72  mag_i                       193 non-null    float64\n",
            " 73  mag_j                       2926 non-null   float64\n",
            " 74  mag_h                       2914 non-null   float64\n",
            " 75  mag_k                       2225 non-null   float64\n",
            " 76  star_distance               4976 non-null   float64\n",
            " 77  star_distance_error_min     3367 non-null   float64\n",
            " 78  star_distance_error_max     3368 non-null   float64\n",
            " 79  star_metallicity            4280 non-null   float64\n",
            " 80  star_metallicity_error_min  3394 non-null   float64\n",
            " 81  star_metallicity_error_max  3394 non-null   float64\n",
            " 82  star_mass                   4728 non-null   float64\n",
            " 83  star_mass_error_min         3949 non-null   float64\n",
            " 84  star_mass_error_max         3949 non-null   float64\n",
            " 85  star_radius                 4405 non-null   float64\n",
            " 86  star_radius_error_min       4233 non-null   float64\n",
            " 87  star_radius_error_max       4233 non-null   float64\n",
            " 88  star_sp_type                2015 non-null   object \n",
            " 89  star_age                    2865 non-null   float64\n",
            " 90  star_age_error_min          2568 non-null   float64\n",
            " 91  star_age_error_max          2569 non-null   float64\n",
            " 92  star_teff                   4609 non-null   float64\n",
            " 93  star_teff_error_min         4397 non-null   float64\n",
            " 94  star_teff_error_max         4397 non-null   float64\n",
            " 95  star_detected_disc          88 non-null     object \n",
            " 96  star_magnetic_field         4 non-null      object \n",
            " 97  star_alternate_names        3279 non-null   object \n",
            "dtypes: float64(84), object(14)\n",
            "memory usage: 4.0+ MB\n",
            "None\n"
          ]
        }
      ]
    },
    {
      "cell_type": "markdown",
      "source": [
        "### **1.2.3 기술 통계 확인하기**"
      ],
      "metadata": {
        "id": "q8E_WTpDI4Cm"
      }
    },
    {
      "cell_type": "markdown",
      "source": [
        "*   분석하려는 외계 행성 파일의 기술 통계를 확인합니다.\n",
        "*   각 열마다 데이터 개수(count), 평균(mean), 표준편차(std), 최소값(min), 1사분위수(25%), 2사분위수(50%), 3사분위수(75%), 최고값(max)를 확인합니다."
      ],
      "metadata": {
        "id": "x2d0AHHO358m"
      }
    },
    {
      "cell_type": "code",
      "source": [
        "print(df.describe()) # 기술 통계"
      ],
      "metadata": {
        "colab": {
          "base_uri": "https://localhost:8080/"
        },
        "id": "9zGtW_DjNd9w",
        "outputId": "6bf1050c-db25-4b30-9b83-490d905e06aa"
      },
      "execution_count": 6,
      "outputs": [
        {
          "output_type": "stream",
          "name": "stdout",
          "text": [
            "              mass  mass_error_min  mass_error_max    mass_sini  \\\n",
            "count  1811.000000     1691.000000     1678.000000  1135.000000   \n",
            "mean      6.425997             inf             inf     3.734487   \n",
            "std      13.805865             NaN             NaN     7.873809   \n",
            "min       0.000002        0.000000        0.000000     0.000104   \n",
            "25%       0.050000        0.011465        0.009187     0.074629   \n",
            "50%       0.727000        0.076000        0.070000     1.068000   \n",
            "75%       4.030000        0.655000        0.600000     3.205000   \n",
            "max     135.300000             inf             inf    63.300000   \n",
            "\n",
            "       mass_sini_error_min  mass_sini_error_max       radius  \\\n",
            "count             977.0000             976.0000  3839.000000   \n",
            "mean                   inf                  inf     0.433467   \n",
            "std                    NaN                  NaN     0.493022   \n",
            "min                 0.0000               0.0000     0.000002   \n",
            "25%                 0.0088               0.0090     0.144250   \n",
            "50%                 0.0700               0.0700     0.220000   \n",
            "75%                 0.2600               0.2825     0.471500   \n",
            "max                    inf                  inf     8.057000   \n",
            "\n",
            "       radius_error_min  radius_error_max  orbital_period  ...  \\\n",
            "count       3683.000000       3683.000000    4.850000e+03  ...   \n",
            "mean           0.054588          0.068917    2.763342e+03  ...   \n",
            "std            0.794832          0.821111    1.188153e+05  ...   \n",
            "min            0.000000          0.000000    1.960000e-02  ...   \n",
            "25%            0.011000          0.012000    4.287193e+00  ...   \n",
            "50%            0.021000          0.027000    1.163593e+01  ...   \n",
            "75%            0.046000          0.056000    4.686543e+01  ...   \n",
            "max           48.000000         48.000000    8.035500e+06  ...   \n",
            "\n",
            "       star_mass_error_max  star_radius  star_radius_error_min  \\\n",
            "count              3949.00  4405.000000            4233.000000   \n",
            "mean                   inf     1.527031               0.160248   \n",
            "std                    NaN     3.455005               0.610501   \n",
            "min                  -0.13     0.008300              -0.180000   \n",
            "25%                   0.03     0.780000               0.030000   \n",
            "50%                   0.05     0.968000               0.060000   \n",
            "75%                   0.09     1.260000               0.140000   \n",
            "max                    inf    83.800000              20.510000   \n",
            "\n",
            "       star_radius_error_max     star_age  star_age_error_min  \\\n",
            "count            4233.000000  2865.000000             2568.00   \n",
            "mean                0.217014     4.312273                 inf   \n",
            "std                 1.761902     6.011260                 NaN   \n",
            "min                -0.180000     0.000020               -7.41   \n",
            "25%                 0.030000     2.650000               -2.33   \n",
            "50%                 0.070000     4.070000               -0.46   \n",
            "75%                 0.220000     5.010000                1.00   \n",
            "max               104.530000   295.870000                 inf   \n",
            "\n",
            "       star_age_error_max     star_teff  star_teff_error_min  \\\n",
            "count             2569.00   4609.000000          4397.000000   \n",
            "mean                  inf   5440.796273           109.496989   \n",
            "std                   NaN   1546.676279           203.485019   \n",
            "min                 -2.60     48.910000             0.000000   \n",
            "25%                  0.84   4961.000000            57.560000   \n",
            "50%                  2.10   5560.000000            89.000000   \n",
            "75%                  4.22   5913.000000           125.420000   \n",
            "max                   inf  42000.000000          5500.000000   \n",
            "\n",
            "       star_teff_error_max  \n",
            "count          4397.000000  \n",
            "mean            109.540073  \n",
            "std             201.488905  \n",
            "min               0.000000  \n",
            "25%              58.080000  \n",
            "50%              88.960000  \n",
            "75%             120.000000  \n",
            "max            5500.000000  \n",
            "\n",
            "[8 rows x 84 columns]\n"
          ]
        }
      ]
    },
    {
      "cell_type": "markdown",
      "source": [
        "# **2 데이터 처리**"
      ],
      "metadata": {
        "id": "qYxYYegaG5vB"
      }
    },
    {
      "cell_type": "markdown",
      "source": [
        "## **2.1 데이터 정제**"
      ],
      "metadata": {
        "id": "p_CAu3JMG8CC"
      }
    },
    {
      "cell_type": "markdown",
      "source": [
        "### **2.1.1 분석하고자 하는 열만 추출한 후 데이터 정보 확인하기**"
      ],
      "metadata": {
        "id": "ACn2gBooG821"
      }
    },
    {
      "cell_type": "markdown",
      "source": [
        "*   98개의 열 중 적경(ra), 적위(dec), 발견된 해(discovered), 질량(mass), 항성까지 거리(star_distance, 지구로부터 외계 항성계까지) 열 4개만 분석에 사용하기 위해 추출합니다"
      ],
      "metadata": {
        "id": "3FA-XpsLHAS-"
      }
    },
    {
      "cell_type": "code",
      "source": [
        "df_e = df[['ra', 'dec', 'discovered', 'mass', 'star_distance']] # 적경, 적위, 발견된 해, 질량, 항성까지 거리 열만 추출\n",
        "display('적경(ra), 적위(dec), 발견된 해(discovered), 질량(mass), 항성까지 거리(star_distance)', df_e) # 정보 확인"
      ],
      "metadata": {
        "colab": {
          "base_uri": "https://localhost:8080/",
          "height": 442
        },
        "id": "VZGmKOYLDo1T",
        "outputId": "d849096e-c74e-4460-ee06-70ba1314190f"
      },
      "execution_count": 7,
      "outputs": [
        {
          "output_type": "display_data",
          "data": {
            "text/plain": [
              "'적경(ra), 적위(dec), 발견된 해(discovered), 질량(mass), 항성까지 거리(star_distance)'"
            ],
            "application/vnd.google.colaboratory.intrinsic+json": {
              "type": "string"
            }
          },
          "metadata": {}
        },
        {
          "output_type": "display_data",
          "data": {
            "text/plain": [
              "              ra        dec  discovered   mass  star_distance\n",
              "0     185.179167  17.792778      2008.0    NaN         110.60\n",
              "1     245.604167 -24.087222      2007.0  21.00         145.00\n",
              "2     229.275000  71.823889      2009.0    NaN         119.50\n",
              "3     352.820833  39.236111      2008.0    NaN          76.40\n",
              "4     242.595833  43.821667      2002.0   9.10          18.10\n",
              "...          ...        ...         ...    ...            ...\n",
              "5279   24.200000  41.410556      1999.0   9.10          13.47\n",
              "5280   24.200000  41.410556      1999.0  23.58          13.47\n",
              "5281   24.200000  41.410556      2010.0    NaN          13.47\n",
              "5282  174.237500  -0.823611      2021.0    NaN            NaN\n",
              "5283  308.827232  14.674213      2014.0  40.00          67.48\n",
              "\n",
              "[5284 rows x 5 columns]"
            ],
            "text/html": [
              "\n",
              "  <div id=\"df-909c4872-a6da-4c9f-bb19-41fea157def5\">\n",
              "    <div class=\"colab-df-container\">\n",
              "      <div>\n",
              "<style scoped>\n",
              "    .dataframe tbody tr th:only-of-type {\n",
              "        vertical-align: middle;\n",
              "    }\n",
              "\n",
              "    .dataframe tbody tr th {\n",
              "        vertical-align: top;\n",
              "    }\n",
              "\n",
              "    .dataframe thead th {\n",
              "        text-align: right;\n",
              "    }\n",
              "</style>\n",
              "<table border=\"1\" class=\"dataframe\">\n",
              "  <thead>\n",
              "    <tr style=\"text-align: right;\">\n",
              "      <th></th>\n",
              "      <th>ra</th>\n",
              "      <th>dec</th>\n",
              "      <th>discovered</th>\n",
              "      <th>mass</th>\n",
              "      <th>star_distance</th>\n",
              "    </tr>\n",
              "  </thead>\n",
              "  <tbody>\n",
              "    <tr>\n",
              "      <th>0</th>\n",
              "      <td>185.179167</td>\n",
              "      <td>17.792778</td>\n",
              "      <td>2008.0</td>\n",
              "      <td>NaN</td>\n",
              "      <td>110.60</td>\n",
              "    </tr>\n",
              "    <tr>\n",
              "      <th>1</th>\n",
              "      <td>245.604167</td>\n",
              "      <td>-24.087222</td>\n",
              "      <td>2007.0</td>\n",
              "      <td>21.00</td>\n",
              "      <td>145.00</td>\n",
              "    </tr>\n",
              "    <tr>\n",
              "      <th>2</th>\n",
              "      <td>229.275000</td>\n",
              "      <td>71.823889</td>\n",
              "      <td>2009.0</td>\n",
              "      <td>NaN</td>\n",
              "      <td>119.50</td>\n",
              "    </tr>\n",
              "    <tr>\n",
              "      <th>3</th>\n",
              "      <td>352.820833</td>\n",
              "      <td>39.236111</td>\n",
              "      <td>2008.0</td>\n",
              "      <td>NaN</td>\n",
              "      <td>76.40</td>\n",
              "    </tr>\n",
              "    <tr>\n",
              "      <th>4</th>\n",
              "      <td>242.595833</td>\n",
              "      <td>43.821667</td>\n",
              "      <td>2002.0</td>\n",
              "      <td>9.10</td>\n",
              "      <td>18.10</td>\n",
              "    </tr>\n",
              "    <tr>\n",
              "      <th>...</th>\n",
              "      <td>...</td>\n",
              "      <td>...</td>\n",
              "      <td>...</td>\n",
              "      <td>...</td>\n",
              "      <td>...</td>\n",
              "    </tr>\n",
              "    <tr>\n",
              "      <th>5279</th>\n",
              "      <td>24.200000</td>\n",
              "      <td>41.410556</td>\n",
              "      <td>1999.0</td>\n",
              "      <td>9.10</td>\n",
              "      <td>13.47</td>\n",
              "    </tr>\n",
              "    <tr>\n",
              "      <th>5280</th>\n",
              "      <td>24.200000</td>\n",
              "      <td>41.410556</td>\n",
              "      <td>1999.0</td>\n",
              "      <td>23.58</td>\n",
              "      <td>13.47</td>\n",
              "    </tr>\n",
              "    <tr>\n",
              "      <th>5281</th>\n",
              "      <td>24.200000</td>\n",
              "      <td>41.410556</td>\n",
              "      <td>2010.0</td>\n",
              "      <td>NaN</td>\n",
              "      <td>13.47</td>\n",
              "    </tr>\n",
              "    <tr>\n",
              "      <th>5282</th>\n",
              "      <td>174.237500</td>\n",
              "      <td>-0.823611</td>\n",
              "      <td>2021.0</td>\n",
              "      <td>NaN</td>\n",
              "      <td>NaN</td>\n",
              "    </tr>\n",
              "    <tr>\n",
              "      <th>5283</th>\n",
              "      <td>308.827232</td>\n",
              "      <td>14.674213</td>\n",
              "      <td>2014.0</td>\n",
              "      <td>40.00</td>\n",
              "      <td>67.48</td>\n",
              "    </tr>\n",
              "  </tbody>\n",
              "</table>\n",
              "<p>5284 rows × 5 columns</p>\n",
              "</div>\n",
              "      <button class=\"colab-df-convert\" onclick=\"convertToInteractive('df-909c4872-a6da-4c9f-bb19-41fea157def5')\"\n",
              "              title=\"Convert this dataframe to an interactive table.\"\n",
              "              style=\"display:none;\">\n",
              "        \n",
              "  <svg xmlns=\"http://www.w3.org/2000/svg\" height=\"24px\"viewBox=\"0 0 24 24\"\n",
              "       width=\"24px\">\n",
              "    <path d=\"M0 0h24v24H0V0z\" fill=\"none\"/>\n",
              "    <path d=\"M18.56 5.44l.94 2.06.94-2.06 2.06-.94-2.06-.94-.94-2.06-.94 2.06-2.06.94zm-11 1L8.5 8.5l.94-2.06 2.06-.94-2.06-.94L8.5 2.5l-.94 2.06-2.06.94zm10 10l.94 2.06.94-2.06 2.06-.94-2.06-.94-.94-2.06-.94 2.06-2.06.94z\"/><path d=\"M17.41 7.96l-1.37-1.37c-.4-.4-.92-.59-1.43-.59-.52 0-1.04.2-1.43.59L10.3 9.45l-7.72 7.72c-.78.78-.78 2.05 0 2.83L4 21.41c.39.39.9.59 1.41.59.51 0 1.02-.2 1.41-.59l7.78-7.78 2.81-2.81c.8-.78.8-2.07 0-2.86zM5.41 20L4 18.59l7.72-7.72 1.47 1.35L5.41 20z\"/>\n",
              "  </svg>\n",
              "      </button>\n",
              "      \n",
              "  <style>\n",
              "    .colab-df-container {\n",
              "      display:flex;\n",
              "      flex-wrap:wrap;\n",
              "      gap: 12px;\n",
              "    }\n",
              "\n",
              "    .colab-df-convert {\n",
              "      background-color: #E8F0FE;\n",
              "      border: none;\n",
              "      border-radius: 50%;\n",
              "      cursor: pointer;\n",
              "      display: none;\n",
              "      fill: #1967D2;\n",
              "      height: 32px;\n",
              "      padding: 0 0 0 0;\n",
              "      width: 32px;\n",
              "    }\n",
              "\n",
              "    .colab-df-convert:hover {\n",
              "      background-color: #E2EBFA;\n",
              "      box-shadow: 0px 1px 2px rgba(60, 64, 67, 0.3), 0px 1px 3px 1px rgba(60, 64, 67, 0.15);\n",
              "      fill: #174EA6;\n",
              "    }\n",
              "\n",
              "    [theme=dark] .colab-df-convert {\n",
              "      background-color: #3B4455;\n",
              "      fill: #D2E3FC;\n",
              "    }\n",
              "\n",
              "    [theme=dark] .colab-df-convert:hover {\n",
              "      background-color: #434B5C;\n",
              "      box-shadow: 0px 1px 3px 1px rgba(0, 0, 0, 0.15);\n",
              "      filter: drop-shadow(0px 1px 2px rgba(0, 0, 0, 0.3));\n",
              "      fill: #FFFFFF;\n",
              "    }\n",
              "  </style>\n",
              "\n",
              "      <script>\n",
              "        const buttonEl =\n",
              "          document.querySelector('#df-909c4872-a6da-4c9f-bb19-41fea157def5 button.colab-df-convert');\n",
              "        buttonEl.style.display =\n",
              "          google.colab.kernel.accessAllowed ? 'block' : 'none';\n",
              "\n",
              "        async function convertToInteractive(key) {\n",
              "          const element = document.querySelector('#df-909c4872-a6da-4c9f-bb19-41fea157def5');\n",
              "          const dataTable =\n",
              "            await google.colab.kernel.invokeFunction('convertToInteractive',\n",
              "                                                     [key], {});\n",
              "          if (!dataTable) return;\n",
              "\n",
              "          const docLinkHtml = 'Like what you see? Visit the ' +\n",
              "            '<a target=\"_blank\" href=https://colab.research.google.com/notebooks/data_table.ipynb>data table notebook</a>'\n",
              "            + ' to learn more about interactive tables.';\n",
              "          element.innerHTML = '';\n",
              "          dataTable['output_type'] = 'display_data';\n",
              "          await google.colab.output.renderOutput(dataTable, element);\n",
              "          const docLink = document.createElement('div');\n",
              "          docLink.innerHTML = docLinkHtml;\n",
              "          element.appendChild(docLink);\n",
              "        }\n",
              "      </script>\n",
              "    </div>\n",
              "  </div>\n",
              "  "
            ]
          },
          "metadata": {}
        }
      ]
    },
    {
      "cell_type": "markdown",
      "source": [
        "*    적경, 적위, 발견된 해, 질량, 항성까지 거리의 요약 정보를 확인합니다.\n",
        "*    적경, 적위, 발견된 해, 질량, 항성까지 거리의 데이터가 각각 5284개, 5284개, 5276개, 1811개, 4976개 임을 확인합니다."
      ],
      "metadata": {
        "id": "g_x8xxJxHtvV"
      }
    },
    {
      "cell_type": "code",
      "source": [
        "print(df_e.info()) # 요약 정보"
      ],
      "metadata": {
        "colab": {
          "base_uri": "https://localhost:8080/"
        },
        "id": "J9vNHJw6Hwz_",
        "outputId": "16b3d899-6a2f-46c6-eae5-c5a636d88e40"
      },
      "execution_count": 8,
      "outputs": [
        {
          "output_type": "stream",
          "name": "stdout",
          "text": [
            "<class 'pandas.core.frame.DataFrame'>\n",
            "RangeIndex: 5284 entries, 0 to 5283\n",
            "Data columns (total 5 columns):\n",
            " #   Column         Non-Null Count  Dtype  \n",
            "---  ------         --------------  -----  \n",
            " 0   ra             5284 non-null   float64\n",
            " 1   dec            5284 non-null   float64\n",
            " 2   discovered     5276 non-null   float64\n",
            " 3   mass           1811 non-null   float64\n",
            " 4   star_distance  4976 non-null   float64\n",
            "dtypes: float64(5)\n",
            "memory usage: 206.5 KB\n",
            "None\n"
          ]
        }
      ]
    },
    {
      "cell_type": "markdown",
      "source": [
        "### **2.1.2 결측값 확인 및 결측값 처리하기** "
      ],
      "metadata": {
        "id": "GbeebGu8Hz9d"
      }
    },
    {
      "cell_type": "markdown",
      "source": [
        "*   적경, 적위, 발견된 해, 질량, 항성까지 거리의 결측값 개수가 각각 0개, 0개, 8개, 3473개, 308개 임을 확인합니다."
      ],
      "metadata": {
        "id": "2RDi8zI7IDZS"
      }
    },
    {
      "cell_type": "code",
      "source": [
        "print('적경, 적위, 발견된 해, 질량, 항성까지 거리의 결측값 개수:', df_e.isnull().sum(), sep='\\n') # 적경, 적위, 발견된 해, 질량별, 항성까지 거리의 결측값 합계"
      ],
      "metadata": {
        "colab": {
          "base_uri": "https://localhost:8080/"
        },
        "id": "js_1HXhTHzNG",
        "outputId": "a5854abc-fbd0-4e70-b039-f93252a6d92c"
      },
      "execution_count": 9,
      "outputs": [
        {
          "output_type": "stream",
          "name": "stdout",
          "text": [
            "적경, 적위, 발견된 해, 질량, 항성까지 거리의 결측값 개수:\n",
            "ra                  0\n",
            "dec                 0\n",
            "discovered          8\n",
            "mass             3473\n",
            "star_distance     308\n",
            "dtype: int64\n"
          ]
        }
      ]
    },
    {
      "cell_type": "markdown",
      "source": [
        "*   행을 기준으로 결측값을 모두 제거합니다."
      ],
      "metadata": {
        "id": "E-iRXZWpIOsR"
      }
    },
    {
      "cell_type": "code",
      "source": [
        "df_e.dropna(axis='rows', inplace=True) # 행 기준 결측값 모두 제거"
      ],
      "metadata": {
        "colab": {
          "base_uri": "https://localhost:8080/"
        },
        "id": "CB19bMjaIRNW",
        "outputId": "20db3810-99f1-424a-82c4-e5dae3df2c94"
      },
      "execution_count": 10,
      "outputs": [
        {
          "output_type": "stream",
          "name": "stderr",
          "text": [
            "/usr/local/lib/python3.8/dist-packages/pandas/util/_decorators.py:311: SettingWithCopyWarning: \n",
            "A value is trying to be set on a copy of a slice from a DataFrame\n",
            "\n",
            "See the caveats in the documentation: https://pandas.pydata.org/pandas-docs/stable/user_guide/indexing.html#returning-a-view-versus-a-copy\n",
            "  return func(*args, **kwargs)\n"
          ]
        }
      ]
    },
    {
      "cell_type": "markdown",
      "source": [
        "*   결측값이 제거된 결과를 확인합니다.\n",
        "*   적경, 적위, 발견된 해, 질량, 항성까지 거리의 결측값이 모두 제거되어 0개가 되었고, 데이터 개수는 모두 1656개 임을 확인합니다. "
      ],
      "metadata": {
        "id": "QARVRRDQIdJn"
      }
    },
    {
      "cell_type": "code",
      "source": [
        "print(df_e.info(), sep='\\n') # 요약 정보\n",
        "print('-'*30) \n",
        "print('적경, 적위, 발견된 해, 질량, 항성까지 거리의 결측값 개수:', df_e.isnull().sum(), sep='\\n') # 적경, 적위, 발견된 해, 질량, 항성까지의 거리별 결측값 합계"
      ],
      "metadata": {
        "colab": {
          "base_uri": "https://localhost:8080/"
        },
        "id": "uf2JVlPPIWaR",
        "outputId": "51ea61ef-3617-45c9-9f5c-e6f6bb6ea093"
      },
      "execution_count": 11,
      "outputs": [
        {
          "output_type": "stream",
          "name": "stdout",
          "text": [
            "<class 'pandas.core.frame.DataFrame'>\n",
            "Int64Index: 1656 entries, 1 to 5283\n",
            "Data columns (total 5 columns):\n",
            " #   Column         Non-Null Count  Dtype  \n",
            "---  ------         --------------  -----  \n",
            " 0   ra             1656 non-null   float64\n",
            " 1   dec            1656 non-null   float64\n",
            " 2   discovered     1656 non-null   float64\n",
            " 3   mass           1656 non-null   float64\n",
            " 4   star_distance  1656 non-null   float64\n",
            "dtypes: float64(5)\n",
            "memory usage: 77.6 KB\n",
            "None\n",
            "------------------------------\n",
            "적경, 적위, 발견된 해, 질량, 항성까지 거리의 결측값 개수:\n",
            "ra               0\n",
            "dec              0\n",
            "discovered       0\n",
            "mass             0\n",
            "star_distance    0\n",
            "dtype: int64\n"
          ]
        }
      ]
    },
    {
      "cell_type": "markdown",
      "source": [
        "## **2.2 데이터 변환**"
      ],
      "metadata": {
        "id": "Fx8zZN9BIiGM"
      }
    },
    {
      "cell_type": "markdown",
      "source": [
        "### **2.2.1 ra, dec, discoverd, mass, star_distance 열을 각각 독립적인 열로 추출하기**"
      ],
      "metadata": {
        "id": "0TJtRQ6oIhgC"
      }
    },
    {
      "cell_type": "markdown",
      "source": [
        "*    df_ex2 변수에 하나로 묶인 ra, dec, discoverd, mass, star_distance 열을 각각 독립적인 ra 열, dec 열, discovered 열, mass 열, star_distance 열로 추출합니다."
      ],
      "metadata": {
        "id": "Pq4BOY1CIhRS"
      }
    },
    {
      "cell_type": "code",
      "source": [
        "ra = df_e['ra'] # ra 열만 추출\n",
        "dec = df_e['dec'] # dec 열만 추출\n",
        "discovered = df_e['discovered'] # discovered 열만 추출\n",
        "mass = df_e['mass']  # mass 열만 추출\n",
        "star_distance = df_e['star_distance'] # star_distance 열만 추출"
      ],
      "metadata": {
        "id": "3ib5f1gWIsFH"
      },
      "execution_count": 12,
      "outputs": []
    },
    {
      "cell_type": "markdown",
      "source": [
        "### **2.2.2 적도 좌표계를 카테시안 좌표계로 변환하기**"
      ],
      "metadata": {
        "id": "xa-M6yXOIuLv"
      }
    },
    {
      "cell_type": "markdown",
      "source": [
        "*   적도 좌표계(ra, dec)를 카테시안 좌표계(x, y, z)로 변환합니다.\n",
        "*   SkyCoord는 astropy 라는 천문 전문 패키지의 함수로 좌표계간의 변환을 자동으로 해줍니다. "
      ],
      "metadata": {
        "id": "Hvzkhj-iIt1M"
      }
    },
    {
      "cell_type": "code",
      "source": [
        "x = [] # 아래에서 변환된 카테시안 x축 좌표값이 모이는 곳\n",
        "y = [] # 아래에서 변환된 카테시안 y축 좌표값이 모이는 곳\n",
        "z = [] # 아래에서 변환된 카테시안 z축 좌표값이 모이는 곳\n",
        "\n",
        "for i in range (0, 1656): # 1656개 데이터에 대한 적도 좌표 -> 카테시안 자표 변환 \n",
        "    c = SkyCoord(ra=ra.iloc[i]*u.degree, dec=dec.iloc[i]*u.degree, distance=star_distance.iloc[i]*u.kpc)\n",
        "    x.append(c.cartesian.x.value) # 변환된 카테시안 x축값을 변수명 x에 붙여넣기\n",
        "    y.append(c.cartesian.y.value) # 변환된 카테시안 y축값을 변수명 y에 붙여넣기\n",
        "    z.append(c.cartesian.z.value) # 변환된 카테시안 z축값을 변수명 Z에 붙여넣기\n",
        "\n",
        "x = np.round(x, 1) # 소수 첫째 자리까지 표현\n",
        "y = np.round(y, 1) # 소수 첫째 자리까지 표현\n",
        "z = np.round(z, 1) # 소수 첫째 자리까지 표현\n",
        "\n",
        "print('카테시안 좌표 x, y, z:', x, y, z, sep='\\n')"
      ],
      "metadata": {
        "id": "4z0v50qMI0DN",
        "colab": {
          "base_uri": "https://localhost:8080/"
        },
        "outputId": "6b112d25-515d-4935-939b-1bc124a99779"
      },
      "execution_count": 13,
      "outputs": [
        {
          "output_type": "stream",
          "name": "stdout",
          "text": [
            "카테시안 좌표 x, y, z:\n",
            "[-54.7  -6.   -6.  ...   9.2   9.2  40.9]\n",
            "[-120.6  -11.6  -11.6 ...    4.1    4.1  -50.9]\n",
            "[-59.2  12.5  12.5 ...   8.9   8.9  17.1]\n"
          ]
        }
      ]
    },
    {
      "cell_type": "markdown",
      "source": [
        "# **3 데이터 분석**"
      ],
      "metadata": {
        "id": "JF0VJ73gI121"
      }
    },
    {
      "cell_type": "markdown",
      "source": [
        "## **3.1 데이터 시각화**"
      ],
      "metadata": {
        "id": "1ABcREfgI1rW"
      }
    },
    {
      "cell_type": "markdown",
      "source": [
        "*   좌표 평면 그림에 카테시안 좌표 x, y, z를 변수로 한 외계행성 분포를 여러가지 기호 스타일, 범례를 사용해 표현합니다.\n",
        "\n",
        "*   발견된 해와 외계행성 질량의 관계를 여러가지 기호 스타일 등을 사용해 표현합니다."
      ],
      "metadata": {
        "id": "6hPq_CmNI1fv"
      }
    },
    {
      "cell_type": "code",
      "source": [
        "fig = plt.figure(figsize=(10,15)) # 그림 크기 지정\n",
        "# 좌표 평면 그림에 각 기호 스타일(색깔, 크기, 레이블) 지정\n",
        "ax1 = fig.add_subplot(211, projection='3d') # 1행 2열 첫 번째 3D 그림 생성\n",
        "ax1.scatter(x,y,z, c='blue', marker='o', s=15, alpha=0.3) # 분산형 분포 생성 및 스타일(색깔, 모양, 크기, 투명도) 지정 - 외계 행성계 위치\n",
        "ax1.scatter(0,0,0, c='red', marker='o', s=1000, alpha=1) # 분산형 분포 생성 및 스타일(색깔, 모양, 크기, 투명도) 지정 - 태양계 위치\n",
        "ax1.set_xlabel('x(pc)', fontsize=17, labelpad=10) # x축 제목 스타일(크기, 패드) 지정\n",
        "ax1.set_ylabel('y(pc)', fontsize=17, labelpad=10) # y축 제목 스타일(크기, 패드) 지정\n",
        "ax1.set_zlabel('z(pc)', fontsize=17, labelpad=10) # z축 제목 스타일(크기, 패드) 지정\n",
        "ax1.tick_params(labelsize=12, length=5, width=1) # 눈금 스타일(크기, 길이, 폭) 지정\n",
        "ax1.set_title('Exoplanet Location', fontsize=20) # 제목 스타일(크기) 지정\n",
        "\n",
        "ax2 = fig.add_subplot(212) # 1행 2열 두 번째 2D 그림 생성\n",
        "ax2.plot(discovered, star_distance,'+', ms='10', mec='red', mfc='red') # 좌표 평면 기호 스타일 지정\n",
        "ax2.set_xlabel('Discovery time(year)', fontsize=15, labelpad=10) # x축 제목 스타일(크기, 패드) 지정\n",
        "ax2.set_ylabel('Mass(MassJupiter)', fontsize=15, labelpad=10) # y축 제목 스타일(크기, 패드) 지정\n",
        "ax2.set_yscale('log') # y축 스케일 로그로 지정\n",
        "ax2.tick_params(labelsize=15, length=10, width=1) # 눈금 스타일(크기, 길이, 폭) 지정\n",
        "ax2.set_title('Exoplanet Discovery time - Mass(Mj)', fontsize=20) # 제목 스타일(크기) 지정\n",
        "ax2.grid() # 격자 생성\n",
        "plt.show() # 시각화"
      ],
      "metadata": {
        "colab": {
          "base_uri": "https://localhost:8080/",
          "height": 900
        },
        "id": "YhM2xRWQI9pD",
        "outputId": "3c80a581-dd8d-41b4-cbd4-f4f91b3a5ec8"
      },
      "execution_count": 14,
      "outputs": [
        {
          "output_type": "display_data",
          "data": {
            "text/plain": [
              "<Figure size 720x1080 with 2 Axes>"
            ],
            "image/png": "[encoded data removed]"
          },
          "metadata": {
            "needs_background": "light"
          }
        }
      ]
    },
    {
      "cell_type": "markdown",
      "source": [
        "# **탐구활동 2. 외계 행성의 공전궤도 중 장축반경과 외계 행성의 질량 간의 관계를 탐사 방법과 관련하여 나타내기**"
      ],
      "metadata": {
        "id": "DxkMt4OKK_TY"
      }
    },
    {
      "cell_type": "markdown",
      "source": [
        "*   ## **데이터 수집 및 탐색은 탐구활동 1에서 하였기에 생략합니다.**\n"
      ],
      "metadata": {
        "id": "GXm91cQVLBAG"
      }
    },
    {
      "cell_type": "markdown",
      "source": [
        "# **2 데이터 처리**"
      ],
      "metadata": {
        "id": "fuaQW3ee5DGe"
      }
    },
    {
      "cell_type": "markdown",
      "source": [
        "## **2.1 데이터 정제**"
      ],
      "metadata": {
        "id": "7zKu4ihn6FMU"
      }
    },
    {
      "cell_type": "markdown",
      "source": [
        "### **23.1.1 분석하고자 하는 열만 추출한 후 데이터 정보 확인하기**"
      ],
      "metadata": {
        "id": "DkgJHb-U6WMV"
      }
    },
    {
      "cell_type": "markdown",
      "source": [
        "\n",
        "\n",
        "*   96개의 열 중 탐사유형(detection_type), 장축반경(semi_major_axis, 해당 외계 행성의 공전궤도 중 장축반경), 질량(mass, 목성 질량 대비 몇 배 인지가 기준) 열 3개만 분석에 사용하기 위해 추출합니다.\n",
        "\n"
      ],
      "metadata": {
        "id": "QiItOdbf6gKr"
      }
    },
    {
      "cell_type": "code",
      "source": [
        "df_ex = df[['detection_type', 'semi_major_axis', 'mass']] # 탐사유형, 장축반경, 질량 열만 추출\n",
        "display('탐사유형(detection_type), 장축반경(semi_major_axis), 질량(mass)', df_ex) # 정보 확인"
      ],
      "metadata": {
        "colab": {
          "base_uri": "https://localhost:8080/",
          "height": 442
        },
        "id": "tv9ecMFUTpFg",
        "outputId": "5ce2ad7b-f8e2-469e-fac1-b5cbbf79d24d"
      },
      "execution_count": 15,
      "outputs": [
        {
          "output_type": "display_data",
          "data": {
            "text/plain": [
              "'탐사유형(detection_type), 장축반경(semi_major_axis), 질량(mass)'"
            ],
            "application/vnd.google.colaboratory.intrinsic+json": {
              "type": "string"
            }
          },
          "metadata": {}
        },
        {
          "output_type": "display_data",
          "data": {
            "text/plain": [
              "       detection_type  semi_major_axis   mass\n",
              "0     Radial Velocity           1.2900    NaN\n",
              "1             Imaging         243.0000  21.00\n",
              "2     Radial Velocity           1.5400    NaN\n",
              "3     Radial Velocity           0.8300    NaN\n",
              "4     Radial Velocity           2.8450   9.10\n",
              "...               ...              ...    ...\n",
              "5279  Radial Velocity           0.8610   9.10\n",
              "5280  Radial Velocity           2.5500  23.58\n",
              "5281  Radial Velocity           5.2456    NaN\n",
              "5282  Radial Velocity           1.1800    NaN\n",
              "5283          Imaging         907.0000  40.00\n",
              "\n",
              "[5284 rows x 3 columns]"
            ],
            "text/html": [
              "\n",
              "  <div id=\"df-545c3a00-b7ef-422e-bd29-bae63280776b\">\n",
              "    <div class=\"colab-df-container\">\n",
              "      <div>\n",
              "<style scoped>\n",
              "    .dataframe tbody tr th:only-of-type {\n",
              "        vertical-align: middle;\n",
              "    }\n",
              "\n",
              "    .dataframe tbody tr th {\n",
              "        vertical-align: top;\n",
              "    }\n",
              "\n",
              "    .dataframe thead th {\n",
              "        text-align: right;\n",
              "    }\n",
              "</style>\n",
              "<table border=\"1\" class=\"dataframe\">\n",
              "  <thead>\n",
              "    <tr style=\"text-align: right;\">\n",
              "      <th></th>\n",
              "      <th>detection_type</th>\n",
              "      <th>semi_major_axis</th>\n",
              "      <th>mass</th>\n",
              "    </tr>\n",
              "  </thead>\n",
              "  <tbody>\n",
              "    <tr>\n",
              "      <th>0</th>\n",
              "      <td>Radial Velocity</td>\n",
              "      <td>1.2900</td>\n",
              "      <td>NaN</td>\n",
              "    </tr>\n",
              "    <tr>\n",
              "      <th>1</th>\n",
              "      <td>Imaging</td>\n",
              "      <td>243.0000</td>\n",
              "      <td>21.00</td>\n",
              "    </tr>\n",
              "    <tr>\n",
              "      <th>2</th>\n",
              "      <td>Radial Velocity</td>\n",
              "      <td>1.5400</td>\n",
              "      <td>NaN</td>\n",
              "    </tr>\n",
              "    <tr>\n",
              "      <th>3</th>\n",
              "      <td>Radial Velocity</td>\n",
              "      <td>0.8300</td>\n",
              "      <td>NaN</td>\n",
              "    </tr>\n",
              "    <tr>\n",
              "      <th>4</th>\n",
              "      <td>Radial Velocity</td>\n",
              "      <td>2.8450</td>\n",
              "      <td>9.10</td>\n",
              "    </tr>\n",
              "    <tr>\n",
              "      <th>...</th>\n",
              "      <td>...</td>\n",
              "      <td>...</td>\n",
              "      <td>...</td>\n",
              "    </tr>\n",
              "    <tr>\n",
              "      <th>5279</th>\n",
              "      <td>Radial Velocity</td>\n",
              "      <td>0.8610</td>\n",
              "      <td>9.10</td>\n",
              "    </tr>\n",
              "    <tr>\n",
              "      <th>5280</th>\n",
              "      <td>Radial Velocity</td>\n",
              "      <td>2.5500</td>\n",
              "      <td>23.58</td>\n",
              "    </tr>\n",
              "    <tr>\n",
              "      <th>5281</th>\n",
              "      <td>Radial Velocity</td>\n",
              "      <td>5.2456</td>\n",
              "      <td>NaN</td>\n",
              "    </tr>\n",
              "    <tr>\n",
              "      <th>5282</th>\n",
              "      <td>Radial Velocity</td>\n",
              "      <td>1.1800</td>\n",
              "      <td>NaN</td>\n",
              "    </tr>\n",
              "    <tr>\n",
              "      <th>5283</th>\n",
              "      <td>Imaging</td>\n",
              "      <td>907.0000</td>\n",
              "      <td>40.00</td>\n",
              "    </tr>\n",
              "  </tbody>\n",
              "</table>\n",
              "<p>5284 rows × 3 columns</p>\n",
              "</div>\n",
              "      <button class=\"colab-df-convert\" onclick=\"convertToInteractive('df-545c3a00-b7ef-422e-bd29-bae63280776b')\"\n",
              "              title=\"Convert this dataframe to an interactive table.\"\n",
              "              style=\"display:none;\">\n",
              "        \n",
              "  <svg xmlns=\"http://www.w3.org/2000/svg\" height=\"24px\"viewBox=\"0 0 24 24\"\n",
              "       width=\"24px\">\n",
              "    <path d=\"M0 0h24v24H0V0z\" fill=\"none\"/>\n",
              "    <path d=\"M18.56 5.44l.94 2.06.94-2.06 2.06-.94-2.06-.94-.94-2.06-.94 2.06-2.06.94zm-11 1L8.5 8.5l.94-2.06 2.06-.94-2.06-.94L8.5 2.5l-.94 2.06-2.06.94zm10 10l.94 2.06.94-2.06 2.06-.94-2.06-.94-.94-2.06-.94 2.06-2.06.94z\"/><path d=\"M17.41 7.96l-1.37-1.37c-.4-.4-.92-.59-1.43-.59-.52 0-1.04.2-1.43.59L10.3 9.45l-7.72 7.72c-.78.78-.78 2.05 0 2.83L4 21.41c.39.39.9.59 1.41.59.51 0 1.02-.2 1.41-.59l7.78-7.78 2.81-2.81c.8-.78.8-2.07 0-2.86zM5.41 20L4 18.59l7.72-7.72 1.47 1.35L5.41 20z\"/>\n",
              "  </svg>\n",
              "      </button>\n",
              "      \n",
              "  <style>\n",
              "    .colab-df-container {\n",
              "      display:flex;\n",
              "      flex-wrap:wrap;\n",
              "      gap: 12px;\n",
              "    }\n",
              "\n",
              "    .colab-df-convert {\n",
              "      background-color: #E8F0FE;\n",
              "      border: none;\n",
              "      border-radius: 50%;\n",
              "      cursor: pointer;\n",
              "      display: none;\n",
              "      fill: #1967D2;\n",
              "      height: 32px;\n",
              "      padding: 0 0 0 0;\n",
              "      width: 32px;\n",
              "    }\n",
              "\n",
              "    .colab-df-convert:hover {\n",
              "      background-color: #E2EBFA;\n",
              "      box-shadow: 0px 1px 2px rgba(60, 64, 67, 0.3), 0px 1px 3px 1px rgba(60, 64, 67, 0.15);\n",
              "      fill: #174EA6;\n",
              "    }\n",
              "\n",
              "    [theme=dark] .colab-df-convert {\n",
              "      background-color: #3B4455;\n",
              "      fill: #D2E3FC;\n",
              "    }\n",
              "\n",
              "    [theme=dark] .colab-df-convert:hover {\n",
              "      background-color: #434B5C;\n",
              "      box-shadow: 0px 1px 3px 1px rgba(0, 0, 0, 0.15);\n",
              "      filter: drop-shadow(0px 1px 2px rgba(0, 0, 0, 0.3));\n",
              "      fill: #FFFFFF;\n",
              "    }\n",
              "  </style>\n",
              "\n",
              "      <script>\n",
              "        const buttonEl =\n",
              "          document.querySelector('#df-545c3a00-b7ef-422e-bd29-bae63280776b button.colab-df-convert');\n",
              "        buttonEl.style.display =\n",
              "          google.colab.kernel.accessAllowed ? 'block' : 'none';\n",
              "\n",
              "        async function convertToInteractive(key) {\n",
              "          const element = document.querySelector('#df-545c3a00-b7ef-422e-bd29-bae63280776b');\n",
              "          const dataTable =\n",
              "            await google.colab.kernel.invokeFunction('convertToInteractive',\n",
              "                                                     [key], {});\n",
              "          if (!dataTable) return;\n",
              "\n",
              "          const docLinkHtml = 'Like what you see? Visit the ' +\n",
              "            '<a target=\"_blank\" href=https://colab.research.google.com/notebooks/data_table.ipynb>data table notebook</a>'\n",
              "            + ' to learn more about interactive tables.';\n",
              "          element.innerHTML = '';\n",
              "          dataTable['output_type'] = 'display_data';\n",
              "          await google.colab.output.renderOutput(dataTable, element);\n",
              "          const docLink = document.createElement('div');\n",
              "          docLink.innerHTML = docLinkHtml;\n",
              "          element.appendChild(docLink);\n",
              "        }\n",
              "      </script>\n",
              "    </div>\n",
              "  </div>\n",
              "  "
            ]
          },
          "metadata": {}
        }
      ]
    },
    {
      "cell_type": "markdown",
      "source": [
        "\n",
        "\n",
        "*    탐사 유형, 장축 반경, 질량의 요약 정보를 확인합니다.\n",
        "*    탐사 유형, 장축 반경, 질량의 데이터가 각각 5284개, 3564개, 1811개 임을 확인합니다.\n"
      ],
      "metadata": {
        "id": "T5OIdmnD7R0H"
      }
    },
    {
      "cell_type": "code",
      "source": [
        "print(df_ex.info()) # 요약 정보"
      ],
      "metadata": {
        "colab": {
          "base_uri": "https://localhost:8080/"
        },
        "id": "riATcdW5YYYe",
        "outputId": "cc1709c6-3681-4117-e446-b6a77dc81611"
      },
      "execution_count": 16,
      "outputs": [
        {
          "output_type": "stream",
          "name": "stdout",
          "text": [
            "<class 'pandas.core.frame.DataFrame'>\n",
            "RangeIndex: 5284 entries, 0 to 5283\n",
            "Data columns (total 3 columns):\n",
            " #   Column           Non-Null Count  Dtype  \n",
            "---  ------           --------------  -----  \n",
            " 0   detection_type   5284 non-null   object \n",
            " 1   semi_major_axis  3564 non-null   float64\n",
            " 2   mass             1811 non-null   float64\n",
            "dtypes: float64(2), object(1)\n",
            "memory usage: 124.0+ KB\n",
            "None\n"
          ]
        }
      ]
    },
    {
      "cell_type": "markdown",
      "source": [
        "### **2.1.2 결측값 확인 및 결측값 처리하기** "
      ],
      "metadata": {
        "id": "03On67am8PJs"
      }
    },
    {
      "cell_type": "markdown",
      "source": [
        "*   탐사유형, 장축반경, 질량의 결측값 개수가 각각 0개, 1720개, 3473개 임을 확인합니다."
      ],
      "metadata": {
        "id": "VXzu1z1Z8cqK"
      }
    },
    {
      "cell_type": "code",
      "source": [
        "print('탐사유형, 장축반경, 질량의 결측값 개수:', df_ex.isnull().sum(), sep='\\n') # 탐사유형, 장축반경, 질량별 결측값 합계"
      ],
      "metadata": {
        "colab": {
          "base_uri": "https://localhost:8080/"
        },
        "id": "jQT6YEbL8Xem",
        "outputId": "00775be6-55b5-4e4d-f729-e1bf015edec8"
      },
      "execution_count": 17,
      "outputs": [
        {
          "output_type": "stream",
          "name": "stdout",
          "text": [
            "탐사유형, 장축반경, 질량의 결측값 개수:\n",
            "detection_type        0\n",
            "semi_major_axis    1720\n",
            "mass               3473\n",
            "dtype: int64\n"
          ]
        }
      ]
    },
    {
      "cell_type": "markdown",
      "source": [
        "\n",
        "\n",
        "*   행을 기준으로 결측값을 모두 제거합니다.\n",
        "\n"
      ],
      "metadata": {
        "id": "z_oF46rZ9K_K"
      }
    },
    {
      "cell_type": "code",
      "source": [
        "df_ex.dropna(axis='rows', inplace=True) # 행 기준 결측값 모두 제거"
      ],
      "metadata": {
        "colab": {
          "base_uri": "https://localhost:8080/"
        },
        "id": "OStEy_adcZDX",
        "outputId": "37fb7e5e-60dd-4ba6-9da4-7e820e2644fb"
      },
      "execution_count": 18,
      "outputs": [
        {
          "output_type": "stream",
          "name": "stderr",
          "text": [
            "/usr/local/lib/python3.8/dist-packages/pandas/util/_decorators.py:311: SettingWithCopyWarning: \n",
            "A value is trying to be set on a copy of a slice from a DataFrame\n",
            "\n",
            "See the caveats in the documentation: https://pandas.pydata.org/pandas-docs/stable/user_guide/indexing.html#returning-a-view-versus-a-copy\n",
            "  return func(*args, **kwargs)\n"
          ]
        }
      ]
    },
    {
      "cell_type": "markdown",
      "source": [
        "\n",
        "\n",
        "*   결측값이 제거된 결과를 확인합니다.\n",
        "*   탐사유형, 장축반경, 질량의 결측값이 모두 제거되어 0개가 되었고, 데이터 개수는 모두 1542개 임을 확인합니다. \n",
        "\n",
        "\n"
      ],
      "metadata": {
        "id": "VCNMDde99VeK"
      }
    },
    {
      "cell_type": "code",
      "source": [
        "print(df_ex.info(), sep='\\n') # 요약 정보\n",
        "print('-'*30) \n",
        "print('탐사유형, 장축반경, 질량의 결측값 개수:', df_ex.isnull().sum(), sep='\\n') # 탐사유형, 장축반경, 질량별 결측값 합계"
      ],
      "metadata": {
        "colab": {
          "base_uri": "https://localhost:8080/"
        },
        "id": "2FvWItvQcta4",
        "outputId": "fa6b42aa-839c-4650-bbe5-4c7f09187265"
      },
      "execution_count": 19,
      "outputs": [
        {
          "output_type": "stream",
          "name": "stdout",
          "text": [
            "<class 'pandas.core.frame.DataFrame'>\n",
            "Int64Index: 1542 entries, 1 to 5283\n",
            "Data columns (total 3 columns):\n",
            " #   Column           Non-Null Count  Dtype  \n",
            "---  ------           --------------  -----  \n",
            " 0   detection_type   1542 non-null   object \n",
            " 1   semi_major_axis  1542 non-null   float64\n",
            " 2   mass             1542 non-null   float64\n",
            "dtypes: float64(2), object(1)\n",
            "memory usage: 48.2+ KB\n",
            "None\n",
            "------------------------------\n",
            "탐사유형, 장축반경, 질량의 결측값 개수:\n",
            "detection_type     0\n",
            "semi_major_axis    0\n",
            "mass               0\n",
            "dtype: int64\n"
          ]
        }
      ]
    },
    {
      "cell_type": "markdown",
      "source": [
        "## **2.2 데이터 변환**"
      ],
      "metadata": {
        "id": "ekUYTs8Y-D-E"
      }
    },
    {
      "cell_type": "markdown",
      "source": [
        "### **2.2.1 탐사유형 열의 데이터 정보 확인하기**"
      ],
      "metadata": {
        "id": "zB4BOp6U-SEF"
      }
    },
    {
      "cell_type": "markdown",
      "source": [
        "\n",
        "\n",
        "*   탐사유형별 열의 요약 정보를 확인합니다.\n",
        "*   탐사유형의 종류가 총 8가지 임을 확인합니다.\n",
        "\n"
      ],
      "metadata": {
        "id": "wMp12Uug-khy"
      }
    },
    {
      "cell_type": "code",
      "source": [
        "print('탐사유형 종류:', df_ex['detection_type'].unique(), sep='\\n') # 탐사유형 종류(중복 없이)\n",
        "print('탐사유형 종류 개수:', df_ex['detection_type'].unique().size) # 탐사유형 종류 개수(중복없이)\n",
        "print('탐사유형 종류별 개수:', df_ex.groupby(['detection_type'])['detection_type'].count(), sep='\\n') # 탐사유형 종류별 개수(중복없이)\n",
        "print('-'*50)\n",
        "print('탐사유형', df_ex['detection_type'], sep='\\n') # 탐사유형 전체 정보"
      ],
      "metadata": {
        "colab": {
          "base_uri": "https://localhost:8080/"
        },
        "id": "hSYpcgcEPE47",
        "outputId": "5a9c04e8-86de-4f6f-80d1-487ff148905e"
      },
      "execution_count": 20,
      "outputs": [
        {
          "output_type": "stream",
          "name": "stdout",
          "text": [
            "탐사유형 종류:\n",
            "['Imaging' 'Radial Velocity' 'Astrometry' 'Primary Transit' 'Default'\n",
            " 'Microlensing' 'Timing' 'TTV']\n",
            "탐사유형 종류 개수: 8\n",
            "탐사유형 종류별 개수:\n",
            "detection_type\n",
            "Astrometry           13\n",
            "Default              20\n",
            "Imaging             127\n",
            "Microlensing        211\n",
            "Primary Transit    1059\n",
            "Radial Velocity      84\n",
            "TTV                  10\n",
            "Timing               18\n",
            "Name: detection_type, dtype: int64\n",
            "--------------------------------------------------\n",
            "탐사유형\n",
            "1               Imaging\n",
            "4       Radial Velocity\n",
            "5       Radial Velocity\n",
            "9               Imaging\n",
            "10              Imaging\n",
            "             ...       \n",
            "5272    Radial Velocity\n",
            "5278    Radial Velocity\n",
            "5279    Radial Velocity\n",
            "5280    Radial Velocity\n",
            "5283            Imaging\n",
            "Name: detection_type, Length: 1542, dtype: object\n"
          ]
        }
      ]
    },
    {
      "cell_type": "markdown",
      "source": [
        "### **2.2.2 분석에 필요없는 데이터 삭제하기**"
      ],
      "metadata": {
        "id": "so_COQ6m--qb"
      }
    },
    {
      "cell_type": "markdown",
      "source": [
        "\n",
        "*   탐사유형 중 비상 지구과학 교과서에서는 직접촬영(Imaging), 미세 중력 렌즈 현상(icrolensing), 도플러 효과(Radial Velocity), 식현상(Primary Transit)만을 다루고 있습니다.\n",
        "*   따라서 Astrometry, Default, TTV, Timing은 분석에 필요없기에 모두 삭제합니다.\n",
        "\n"
      ],
      "metadata": {
        "id": "vsP9Vf4c_LQ7"
      }
    },
    {
      "cell_type": "code",
      "source": [
        "df_ex.drop(index = df_ex[df_ex['detection_type'] == 'Astrometry'].index, inplace=True) # 탐사유형 중 Astrometry은 모두 제거\n",
        "df_ex.drop(index = df_ex[df_ex['detection_type'] == 'Default'].index, inplace=True) # 탐사유형 중 Default은 모두 제거\n",
        "df_ex.drop(index = df_ex[df_ex['detection_type'] == 'TTV'].index, inplace=True) # 탐사유형 중 TTV은 모두 제거\n",
        "df_ex.drop(index = df_ex[df_ex['detection_type'] == 'Timing'].index, inplace=True) # 탐사유형 중 Timing은 모두 제거"
      ],
      "metadata": {
        "colab": {
          "base_uri": "https://localhost:8080/"
        },
        "id": "JaMPZpjwmTvA",
        "outputId": "02499a3d-c86c-42eb-92a0-6bab3daa657c"
      },
      "execution_count": 21,
      "outputs": [
        {
          "output_type": "stream",
          "name": "stderr",
          "text": [
            "/usr/local/lib/python3.8/dist-packages/pandas/core/frame.py:4906: SettingWithCopyWarning: \n",
            "A value is trying to be set on a copy of a slice from a DataFrame\n",
            "\n",
            "See the caveats in the documentation: https://pandas.pydata.org/pandas-docs/stable/user_guide/indexing.html#returning-a-view-versus-a-copy\n",
            "  return super().drop(\n"
          ]
        }
      ]
    },
    {
      "cell_type": "markdown",
      "source": [
        "\n",
        "\n",
        "*   탐사유형의 종류가 4가지로 줄어든 것을 확인합니다.\n",
        "\n"
      ],
      "metadata": {
        "id": "SXbSo7zgAHw9"
      }
    },
    {
      "cell_type": "code",
      "source": [
        "print('탐사유형 종류:', df_ex['detection_type'].unique(), sep='\\n') # 탐사유형 종류(중복 없이)\n",
        "print('탐사유형 종류 개수:', df_ex['detection_type'].unique().size) # 탐사유형 종류 개수(중복없이)\n",
        "print('탐사유형 종류별 개수:', df_ex.groupby(['detection_type'])['detection_type'].count(), sep='\\n') # 탐사유형 종류별 개수(중복없이)\n",
        "print('-'*50)\n",
        "print('탐사유형', df_ex['detection_type'], sep='\\n') # 탐사유형 전체 정보"
      ],
      "metadata": {
        "colab": {
          "base_uri": "https://localhost:8080/"
        },
        "id": "BWuQVnaVvP7v",
        "outputId": "5bdd9f8f-88a8-4396-b6fa-2e54b150ee71"
      },
      "execution_count": 22,
      "outputs": [
        {
          "output_type": "stream",
          "name": "stdout",
          "text": [
            "탐사유형 종류:\n",
            "['Imaging' 'Radial Velocity' 'Primary Transit' 'Microlensing']\n",
            "탐사유형 종류 개수: 4\n",
            "탐사유형 종류별 개수:\n",
            "detection_type\n",
            "Imaging             127\n",
            "Microlensing        211\n",
            "Primary Transit    1059\n",
            "Radial Velocity      84\n",
            "Name: detection_type, dtype: int64\n",
            "--------------------------------------------------\n",
            "탐사유형\n",
            "1               Imaging\n",
            "4       Radial Velocity\n",
            "5       Radial Velocity\n",
            "9               Imaging\n",
            "10              Imaging\n",
            "             ...       \n",
            "5272    Radial Velocity\n",
            "5278    Radial Velocity\n",
            "5279    Radial Velocity\n",
            "5280    Radial Velocity\n",
            "5283            Imaging\n",
            "Name: detection_type, Length: 1481, dtype: object\n"
          ]
        }
      ]
    },
    {
      "cell_type": "markdown",
      "source": [
        "### **2.2.3 컴퓨터가 분석을 할 수 있도록 데이터 변환하기**"
      ],
      "metadata": {
        "id": "T36CPVKAAVQ6"
      }
    },
    {
      "cell_type": "markdown",
      "source": [
        "\n",
        "\n",
        "*   탐사유형 중 직접촬영(Imaging) -> 0, 미세 중력 렌즈 현상(Microlensing) -> 1, 도플러 효과(Radial Velocity) -> 2, 식현상(Primary Transit) -> 3 으로 변경합니다.\n",
        "\n",
        "\n"
      ],
      "metadata": {
        "id": "6aF--l-sAsJ2"
      }
    },
    {
      "cell_type": "code",
      "source": [
        "# 탐사유형 중 직접촬영(Imaging) -> 0, 미세 중력 렌즈 현상(Microlensing) -> 1, 도플러 효과(Radial Velocity) -> 2, 식현상(Primary Transit) -> 3 으로 변경\n",
        "df_ex['detection_type'] = df_ex['detection_type'].replace('Imaging', 0).replace('Microlensing', 1).replace('Radial Velocity', 2).replace('Primary Transit', 3)\n",
        "print('탐사유형 종류별 개수:', df_ex.groupby(['detection_type'])['detection_type'].count(), sep='\\n') # 탐사유형 종류별 개수"
      ],
      "metadata": {
        "colab": {
          "base_uri": "https://localhost:8080/"
        },
        "id": "8OdW9RyMPnoY",
        "outputId": "8526db44-77f0-40f0-c2ea-84e9a01ea4e9"
      },
      "execution_count": 23,
      "outputs": [
        {
          "output_type": "stream",
          "name": "stdout",
          "text": [
            "탐사유형 종류별 개수:\n",
            "detection_type\n",
            "0     127\n",
            "1     211\n",
            "2      84\n",
            "3    1059\n",
            "Name: detection_type, dtype: int64\n"
          ]
        },
        {
          "output_type": "stream",
          "name": "stderr",
          "text": [
            "<ipython-input-23-89ac1e85f2d1>:2: SettingWithCopyWarning: \n",
            "A value is trying to be set on a copy of a slice from a DataFrame.\n",
            "Try using .loc[row_indexer,col_indexer] = value instead\n",
            "\n",
            "See the caveats in the documentation: https://pandas.pydata.org/pandas-docs/stable/user_guide/indexing.html#returning-a-view-versus-a-copy\n",
            "  df_ex['detection_type'] = df_ex['detection_type'].replace('Imaging', 0).replace('Microlensing', 1).replace('Radial Velocity', 2).replace('Primary Transit', 3)\n"
          ]
        }
      ]
    },
    {
      "cell_type": "markdown",
      "source": [
        "### **2.2.4 탐사유형별 장축반경과 질량 분리하기**"
      ],
      "metadata": {
        "id": "XXvQEUZ_A4jY"
      }
    },
    {
      "cell_type": "markdown",
      "source": [
        "\n",
        "\n",
        "*   탐사유형이 0, 1, 2, 3일 때 장축반경과 질량을 분리합니다.\n",
        "*   데이터 분석의 시각화 단계에서 장축 반경과 질량을 기준으로로 탐사유형별 분포를 나타내기 위함입니다. \n"
      ],
      "metadata": {
        "id": "A-0hK6TcCKoC"
      }
    },
    {
      "cell_type": "code",
      "source": [
        "df_ex_0_s =  df_ex[df_ex['detection_type'] == 0]['semi_major_axis'] # 탐사유형이 0일때의 장축반경값을 df_ex_0_s 라는 변수에 저장\n",
        "df_ex_0_m =  df_ex[df_ex['detection_type'] == 0]['mass'] # 탐사유형이 0일때의 질량값을 df_ex_0_m 이라는 변수에 저장\n",
        "df_ex_1_s =  df_ex[df_ex['detection_type'] == 1]['semi_major_axis'] # 탐사유형이 1일때의 장축반경값을 df_ex_1_s 라는 변수에 저장\n",
        "df_ex_1_m =  df_ex[df_ex['detection_type'] == 1]['mass'] # 탐사유형이 1일때의 질량값을 df_ex_1_m 이라는 변수에 저장\n",
        "df_ex_2_s =  df_ex[df_ex['detection_type'] == 2]['semi_major_axis'] # 탐사유형이 2일때의 장축반경값을 df_ex_2_s 라는 변수에 저장\n",
        "df_ex_2_m =  df_ex[df_ex['detection_type'] == 2]['mass'] # 탐사유형이 2일때의 질량값을 df_ex_2_m 이라는 변수에 저장\n",
        "df_ex_3_s =  df_ex[df_ex['detection_type'] == 3]['semi_major_axis'] # 탐사유형이 3일때의 장축반경값을 df_ex_3_s 라는 변수에 저장\n",
        "df_ex_3_m =  df_ex[df_ex['detection_type'] == 3]['mass'] # 탐사유형이 3일때의 질량값을 df_ex_3_m 이라는 변수에 저장"
      ],
      "metadata": {
        "id": "p29jX34GyhOp"
      },
      "execution_count": 24,
      "outputs": []
    },
    {
      "cell_type": "markdown",
      "source": [
        "# **3 데이터 분석**"
      ],
      "metadata": {
        "id": "axEyTZqvBuLL"
      }
    },
    {
      "cell_type": "markdown",
      "source": [
        "## **3.1 데이터 시각화**"
      ],
      "metadata": {
        "id": "j4Xo9luPBrxS"
      }
    },
    {
      "cell_type": "markdown",
      "source": [
        "\n",
        "\n",
        "*   좌표 평면 그림에 장축 반경과 질량을 변수로 한 탐사유형별 분포를 여러가지 기호 스타일, 범례를 사용해 표현합니다.\n",
        "\n"
      ],
      "metadata": {
        "id": "tIm7PDWCC7Rx"
      }
    },
    {
      "cell_type": "code",
      "source": [
        "plt.figure(figsize=(10,10)) # 그림 크기 지정\n",
        "# 좌표 평면 그림에 각 기호 스타일(색깔, 크기, 레이블) 지정\n",
        "plt.plot(df_ex_0_s, df_ex_0_m, '+', ms='10', mec='red', mfc='red', label='Imaging') # 탐사유형이 0(Imaging)일때의 장축 반경과 질량 그래프\n",
        "plt.plot(df_ex_1_s, df_ex_1_m, 'x', ms='10', mec='blue', mfc='blue', label='Microlensing') # 탐사유형이 1(Microlensing)일때의 장축 반경과 질량 그래프\n",
        "plt.plot(df_ex_2_s, df_ex_2_m, '^', ms='10', mec='black', mfc='black', label='Radial Velocity') # 탐사유형이 2(Radial Velocity)일때의 장축 반경과 질량 그래프\n",
        "plt.plot(df_ex_3_s, df_ex_3_m, '.', ms='10', mec='green', mfc='green', label='Transit') # 탐사유형이 3(Primary Transit)일때의 장축 반경과 질량 그래프\n",
        "plt.xlabel('Distance to center star(AU)', fontsize=15, labelpad=10) # x축 제목 스타일(크기, 패드) 지정\n",
        "plt.ylabel('Mass(MassJupiter)', fontsize = 15, labelpad=10) # y축 제목 스타일(크기, 패드) 지정\n",
        "plt.xscale('log') # x축 스케일 로그로 지정\n",
        "plt.yscale('log') # y축 스케일 로그로 지정\n",
        "plt.tick_params(labelsize=15, length=10, width=1) # 눈금 스타일(크기, 길이, 폭) 지정\n",
        "plt.legend(loc='best', fontsize=15) # 범례 스타일(위치, 크기) 지정\n",
        "plt.title('Distance to center star(AU)-Mass(Mj) Obserbation method',  fontsize=20) # 제목 스타일(크기) 지정\n",
        "plt.grid() # 격자 생성\n",
        "plt.show() # 시각화"
      ],
      "metadata": {
        "colab": {
          "base_uri": "https://localhost:8080/",
          "height": 653
        },
        "id": "owVryTtrww9Q",
        "outputId": "782b4c86-216d-4a4e-e3c8-0c3481cd4424"
      },
      "execution_count": 25,
      "outputs": [
        {
          "output_type": "display_data",
          "data": {
            "text/plain": [
              "<Figure size 720x720 with 1 Axes>"
            ],
            "image/png": "[encoded data removed]"
          },
          "metadata": {
            "needs_background": "light"
          }
        }
      ]
    }
  ],
  "metadata": {
    "kernelspec": {
      "display_name": "Python 3 (ipykernel)",
      "language": "python",
      "name": "python3"
    },
    "language_info": {
      "codemirror_mode": {
        "name": "ipython",
        "version": 3
      },
      "file_extension": ".py",
      "mimetype": "text/x-python",
      "name": "python",
      "nbconvert_exporter": "python",
      "pygments_lexer": "ipython3",
      "version": "3.8.13"
    },
    "toc": {
      "base_numbering": 1,
      "nav_menu": {},
      "number_sections": true,
      "sideBar": true,
      "skip_h1_title": false,
      "title_cell": "Table of Contents",
      "title_sidebar": "Contents",
      "toc_cell": false,
      "toc_position": {},
      "toc_section_display": true,
      "toc_window_display": false
    },
    "varInspector": {
      "cols": {
        "lenName": 16,
        "lenType": 16,
        "lenVar": 40
      },
      "kernels_config": {
        "python": {
          "delete_cmd_postfix": "",
          "delete_cmd_prefix": "del ",
          "library": "var_list.py",
          "varRefreshCmd": "print(var_dic_list())"
        },
        "r": {
          "delete_cmd_postfix": ") ",
          "delete_cmd_prefix": "rm(",
          "library": "var_list.r",
          "varRefreshCmd": "cat(var_dic_list()) "
        }
      },
      "types_to_exclude": [
        "module",
        "function",
        "builtin_function_or_method",
        "instance",
        "_Feature"
      ],
      "window_display": false
    },
    "colab": {
      "provenance": [],
      "toc_visible": true,
      "collapsed_sections": [
        "q8E_WTpDI4Cm"
      ]
    }
  },
  "nbformat": 4,
  "nbformat_minor": 0
}