{
  "cells": [
    {
      "cell_type": "markdown",
      "source": [
        "# **탐구활동. 구상성단을 활용하여 우리은하 질량 중심 위치 및 크기 추정하기**"
      ],
      "metadata": {
        "id": "AhDSswEAWGcF"
      }
    },
    {
      "cell_type": "markdown",
      "metadata": {
        "id": "3laUhPt61aC1"
      },
      "source": [
        "# **1 데이터 수집 및 탐색**"
      ]
    },
    {
      "cell_type": "markdown",
      "source": [
        "## **1.1 데이터 수집**"
      ],
      "metadata": {
        "id": "RvfyaN9e6ZDR"
      }
    },
    {
      "cell_type": "markdown",
      "source": [
        "### **1.1.1 패키지 라이브러리 불러오기**"
      ],
      "metadata": {
        "id": "71NlHYw-6jec"
      }
    },
    {
      "cell_type": "code",
      "source": [
        "! pip install pandas"
      ],
      "metadata": {
        "colab": {
          "base_uri": "https://localhost:8080/"
        },
        "id": "DJd0ZRzycMpR",
        "outputId": "a4ec94af-3413-4761-bd48-57e41b97d748"
      },
      "execution_count": 1,
      "outputs": [
        {
          "output_type": "stream",
          "name": "stdout",
          "text": [
            "Looking in indexes: https://pypi.org/simple, https://us-python.pkg.dev/colab-wheels/public/simple/\n",
            "Requirement already satisfied: pandas in /usr/local/lib/python3.8/dist-packages (1.3.5)\n",
            "Requirement already satisfied: python-dateutil>=2.7.3 in /usr/local/lib/python3.8/dist-packages (from pandas) (2.8.2)\n",
            "Requirement already satisfied: pytz>=2017.3 in /usr/local/lib/python3.8/dist-packages (from pandas) (2022.6)\n",
            "Requirement already satisfied: numpy>=1.17.3 in /usr/local/lib/python3.8/dist-packages (from pandas) (1.21.6)\n",
            "Requirement already satisfied: six>=1.5 in /usr/local/lib/python3.8/dist-packages (from python-dateutil>=2.7.3->pandas) (1.15.0)\n"
          ]
        }
      ]
    },
    {
      "cell_type": "code",
      "source": [
        "from google.colab import files # colab으로 파일 불러오기\n",
        "import pandas as pd # 데이터 분석 패키지\n",
        "import matplotlib.pyplot as plt # 그래프 패키지\n",
        "from mpl_toolkits.mplot3d import Axes3D # 3차원 그래프 패키지\n",
        "import numpy as np # 수치 분석 패키지"
      ],
      "metadata": {
        "id": "aI9SDeFK1u3C"
      },
      "execution_count": 2,
      "outputs": []
    },
    {
      "cell_type": "markdown",
      "source": [
        "### **1.1.2 분석할 데이터 불러오기**"
      ],
      "metadata": {
        "id": "43lsb6416ony"
      }
    },
    {
      "cell_type": "markdown",
      "source": [
        "*   'globular_clusters_list.csv' 이라는 제목을 가진 csv 파일을 업로드 합니다.  "
      ],
      "metadata": {
        "id": "03raHYIg6qXR"
      }
    },
    {
      "cell_type": "code",
      "source": [
        "uploaded = files.upload()\n",
        "df=pd.read_csv('globular_clusters_list.csv') # 구상성단 157개 csv파일 불러오기"
      ],
      "metadata": {
        "colab": {
          "base_uri": "https://localhost:8080/",
          "height": 77
        },
        "id": "bvQo24-k103s",
        "outputId": "7569b3aa-a2e4-4fb7-8e15-a8d070074b62"
      },
      "execution_count": 3,
      "outputs": [
        {
          "output_type": "display_data",
          "data": {
            "text/plain": [
              "<IPython.core.display.HTML object>"
            ],
            "text/html": [
              "\n",
              "     <input type=\"file\" id=\"files-0c018566-305e-4849-abd9-cfad8376ed81\" name=\"files[]\" multiple disabled\n",
              "        style=\"border:none\" />\n",
              "     <output id=\"result-0c018566-305e-4849-abd9-cfad8376ed81\">\n",
              "      Upload widget is only available when the cell has been executed in the\n",
              "      current browser session. Please rerun this cell to enable.\n",
              "      </output>\n",
              "      <script>// Copyright 2017 Google LLC\n",
              "//\n",
              "// Licensed under the Apache License, Version 2.0 (the \"License\");\n",
              "// you may not use this file except in compliance with the License.\n",
              "// You may obtain a copy of the License at\n",
              "//\n",
              "//      http://www.apache.org/licenses/LICENSE-2.0\n",
              "//\n",
              "// Unless required by applicable law or agreed to in writing, software\n",
              "// distributed under the License is distributed on an \"AS IS\" BASIS,\n",
              "// WITHOUT WARRANTIES OR CONDITIONS OF ANY KIND, either express or implied.\n",
              "// See the License for the specific language governing permissions and\n",
              "// limitations under the License.\n",
              "\n",
              "/**\n",
              " * @fileoverview Helpers for google.colab Python module.\n",
              " */\n",
              "(function(scope) {\n",
              "function span(text, styleAttributes = {}) {\n",
              "  const element = document.createElement('span');\n",
              "  element.textContent = text;\n",
              "  for (const key of Object.keys(styleAttributes)) {\n",
              "    element.style[key] = styleAttributes[key];\n",
              "  }\n",
              "  return element;\n",
              "}\n",
              "\n",
              "// Max number of bytes which will be uploaded at a time.\n",
              "const MAX_PAYLOAD_SIZE = 100 * 1024;\n",
              "\n",
              "function _uploadFiles(inputId, outputId) {\n",
              "  const steps = uploadFilesStep(inputId, outputId);\n",
              "  const outputElement = document.getElementById(outputId);\n",
              "  // Cache steps on the outputElement to make it available for the next call\n",
              "  // to uploadFilesContinue from Python.\n",
              "  outputElement.steps = steps;\n",
              "\n",
              "  return _uploadFilesContinue(outputId);\n",
              "}\n",
              "\n",
              "// This is roughly an async generator (not supported in the browser yet),\n",
              "// where there are multiple asynchronous steps and the Python side is going\n",
              "// to poll for completion of each step.\n",
              "// This uses a Promise to block the python side on completion of each step,\n",
              "// then passes the result of the previous step as the input to the next step.\n",
              "function _uploadFilesContinue(outputId) {\n",
              "  const outputElement = document.getElementById(outputId);\n",
              "  const steps = outputElement.steps;\n",
              "\n",
              "  const next = steps.next(outputElement.lastPromiseValue);\n",
              "  return Promise.resolve(next.value.promise).then((value) => {\n",
              "    // Cache the last promise value to make it available to the next\n",
              "    // step of the generator.\n",
              "    outputElement.lastPromiseValue = value;\n",
              "    return next.value.response;\n",
              "  });\n",
              "}\n",
              "\n",
              "/**\n",
              " * Generator function which is called between each async step of the upload\n",
              " * process.\n",
              " * @param {string} inputId Element ID of the input file picker element.\n",
              " * @param {string} outputId Element ID of the output display.\n",
              " * @return {!Iterable<!Object>} Iterable of next steps.\n",
              " */\n",
              "function* uploadFilesStep(inputId, outputId) {\n",
              "  const inputElement = document.getElementById(inputId);\n",
              "  inputElement.disabled = false;\n",
              "\n",
              "  const outputElement = document.getElementById(outputId);\n",
              "  outputElement.innerHTML = '';\n",
              "\n",
              "  const pickedPromise = new Promise((resolve) => {\n",
              "    inputElement.addEventListener('change', (e) => {\n",
              "      resolve(e.target.files);\n",
              "    });\n",
              "  });\n",
              "\n",
              "  const cancel = document.createElement('button');\n",
              "  inputElement.parentElement.appendChild(cancel);\n",
              "  cancel.textContent = 'Cancel upload';\n",
              "  const cancelPromise = new Promise((resolve) => {\n",
              "    cancel.onclick = () => {\n",
              "      resolve(null);\n",
              "    };\n",
              "  });\n",
              "\n",
              "  // Wait for the user to pick the files.\n",
              "  const files = yield {\n",
              "    promise: Promise.race([pickedPromise, cancelPromise]),\n",
              "    response: {\n",
              "      action: 'starting',\n",
              "    }\n",
              "  };\n",
              "\n",
              "  cancel.remove();\n",
              "\n",
              "  // Disable the input element since further picks are not allowed.\n",
              "  inputElement.disabled = true;\n",
              "\n",
              "  if (!files) {\n",
              "    return {\n",
              "      response: {\n",
              "        action: 'complete',\n",
              "      }\n",
              "    };\n",
              "  }\n",
              "\n",
              "  for (const file of files) {\n",
              "    const li = document.createElement('li');\n",
              "    li.append(span(file.name, {fontWeight: 'bold'}));\n",
              "    li.append(span(\n",
              "        `(${file.type || 'n/a'}) - ${file.size} bytes, ` +\n",
              "        `last modified: ${\n",
              "            file.lastModifiedDate ? file.lastModifiedDate.toLocaleDateString() :\n",
              "                                    'n/a'} - `));\n",
              "    const percent = span('0% done');\n",
              "    li.appendChild(percent);\n",
              "\n",
              "    outputElement.appendChild(li);\n",
              "\n",
              "    const fileDataPromise = new Promise((resolve) => {\n",
              "      const reader = new FileReader();\n",
              "      reader.onload = (e) => {\n",
              "        resolve(e.target.result);\n",
              "      };\n",
              "      reader.readAsArrayBuffer(file);\n",
              "    });\n",
              "    // Wait for the data to be ready.\n",
              "    let fileData = yield {\n",
              "      promise: fileDataPromise,\n",
              "      response: {\n",
              "        action: 'continue',\n",
              "      }\n",
              "    };\n",
              "\n",
              "    // Use a chunked sending to avoid message size limits. See b/62115660.\n",
              "    let position = 0;\n",
              "    do {\n",
              "      const length = Math.min(fileData.byteLength - position, MAX_PAYLOAD_SIZE);\n",
              "      const chunk = new Uint8Array(fileData, position, length);\n",
              "      position += length;\n",
              "\n",
              "      const base64 = btoa(String.fromCharCode.apply(null, chunk));\n",
              "      yield {\n",
              "        response: {\n",
              "          action: 'append',\n",
              "          file: file.name,\n",
              "          data: base64,\n",
              "        },\n",
              "      };\n",
              "\n",
              "      let percentDone = fileData.byteLength === 0 ?\n",
              "          100 :\n",
              "          Math.round((position / fileData.byteLength) * 100);\n",
              "      percent.textContent = `${percentDone}% done`;\n",
              "\n",
              "    } while (position < fileData.byteLength);\n",
              "  }\n",
              "\n",
              "  // All done.\n",
              "  yield {\n",
              "    response: {\n",
              "      action: 'complete',\n",
              "    }\n",
              "  };\n",
              "}\n",
              "\n",
              "scope.google = scope.google || {};\n",
              "scope.google.colab = scope.google.colab || {};\n",
              "scope.google.colab._files = {\n",
              "  _uploadFiles,\n",
              "  _uploadFilesContinue,\n",
              "};\n",
              "})(self);\n",
              "</script> "
            ]
          },
          "metadata": {}
        },
        {
          "output_type": "stream",
          "name": "stdout",
          "text": [
            "Saving globular_clusters_list.csv to globular_clusters_list.csv\n"
          ]
        }
      ]
    },
    {
      "cell_type": "markdown",
      "source": [
        "## **1.2 데이터 탐색**"
      ],
      "metadata": {
        "id": "RuqrN_f87GnD"
      }
    },
    {
      "cell_type": "markdown",
      "source": [
        "### **1.2.1 전체 정보 확인하기**"
      ],
      "metadata": {
        "id": "olO4GMTo7GaS"
      }
    },
    {
      "cell_type": "markdown",
      "source": [
        "*   분석하려는  Harris, W.E.의 구상성단 데이터의 전체적인 정보를 확인합니다.\n",
        "*   행(rows) 157개, 열(columns) 11개를 가진 테이블 구조입니다. "
      ],
      "metadata": {
        "id": "g9DjadH97Myw"
      }
    },
    {
      "cell_type": "code",
      "source": [
        "display(df) # 전체 데이터"
      ],
      "metadata": {
        "colab": {
          "base_uri": "https://localhost:8080/",
          "height": 424
        },
        "id": "u13gtwiP2s1y",
        "outputId": "1a7257e1-1c1c-481c-8b2f-8f7b91f8e529"
      },
      "execution_count": 4,
      "outputs": [
        {
          "output_type": "display_data",
          "data": {
            "text/plain": [
              "            ID    Name           RA          DEC       L      B  R_Sun  R_gc  \\\n",
              "0      NGC 104  47 Tuc  00 24 05.67  -72 04 52.6  305.89 -44.89    4.5   7.4   \n",
              "1      NGC 288     NaN  00 52 45.24  -26 34 57.4  152.30 -89.38    8.9  12.0   \n",
              "2      NGC 362     NaN  01 03 14.26  -70 50 55.6  301.53 -46.25    8.6   9.4   \n",
              "3    Whiting 1     NaN     02 02 57    -03 15 10  161.22 -60.76   30.1  34.5   \n",
              "4     NGC 1261     NaN  03 12 16.21  -55 12 58.4  270.54 -52.12   16.3  18.1   \n",
              "..         ...     ...          ...          ...     ...    ...    ...   ...   \n",
              "152   NGC 7089     M 2  21 33 27.02  -00 49 23.7   53.37 -35.77   11.5  10.4   \n",
              "153   NGC 7099    M 30  21 40 22.12  -23 10 47.5   27.18 -46.84    8.1   7.1   \n",
              "154     Pal 12     NaN  21 46 38.84  -21 15 09.4   30.51 -47.68   19.0  15.8   \n",
              "155     Pal 13     NaN  23 06 44.44  +12 46 19.2   87.10 -42.70   26.0  26.9   \n",
              "156   NGC 7492     NaN  23 08 26.63  -15 36 41.4   53.39 -63.48   26.3  25.3   \n",
              "\n",
              "        X     Y     Z  \n",
              "0     1.9  -2.6  -3.1  \n",
              "1    -0.1   0.0  -8.9  \n",
              "2     3.1  -5.1  -6.2  \n",
              "3   -13.9   4.7 -26.3  \n",
              "4     0.1 -10.0 -12.9  \n",
              "..    ...   ...   ...  \n",
              "152   5.6   7.5  -6.7  \n",
              "153   4.9   2.5  -5.9  \n",
              "154  11.0   6.5 -14.1  \n",
              "155   1.0  19.1 -17.6  \n",
              "156   7.0   9.4 -23.5  \n",
              "\n",
              "[157 rows x 11 columns]"
            ],
            "text/html": [
              "\n",
              "  <div id=\"df-05bcda34-35e7-4f02-8533-ed852a67d3ff\">\n",
              "    <div class=\"colab-df-container\">\n",
              "      <div>\n",
              "<style scoped>\n",
              "    .dataframe tbody tr th:only-of-type {\n",
              "        vertical-align: middle;\n",
              "    }\n",
              "\n",
              "    .dataframe tbody tr th {\n",
              "        vertical-align: top;\n",
              "    }\n",
              "\n",
              "    .dataframe thead th {\n",
              "        text-align: right;\n",
              "    }\n",
              "</style>\n",
              "<table border=\"1\" class=\"dataframe\">\n",
              "  <thead>\n",
              "    <tr style=\"text-align: right;\">\n",
              "      <th></th>\n",
              "      <th>ID</th>\n",
              "      <th>Name</th>\n",
              "      <th>RA</th>\n",
              "      <th>DEC</th>\n",
              "      <th>L</th>\n",
              "      <th>B</th>\n",
              "      <th>R_Sun</th>\n",
              "      <th>R_gc</th>\n",
              "      <th>X</th>\n",
              "      <th>Y</th>\n",
              "      <th>Z</th>\n",
              "    </tr>\n",
              "  </thead>\n",
              "  <tbody>\n",
              "    <tr>\n",
              "      <th>0</th>\n",
              "      <td>NGC 104</td>\n",
              "      <td>47 Tuc</td>\n",
              "      <td>00 24 05.67</td>\n",
              "      <td>-72 04 52.6</td>\n",
              "      <td>305.89</td>\n",
              "      <td>-44.89</td>\n",
              "      <td>4.5</td>\n",
              "      <td>7.4</td>\n",
              "      <td>1.9</td>\n",
              "      <td>-2.6</td>\n",
              "      <td>-3.1</td>\n",
              "    </tr>\n",
              "    <tr>\n",
              "      <th>1</th>\n",
              "      <td>NGC 288</td>\n",
              "      <td>NaN</td>\n",
              "      <td>00 52 45.24</td>\n",
              "      <td>-26 34 57.4</td>\n",
              "      <td>152.30</td>\n",
              "      <td>-89.38</td>\n",
              "      <td>8.9</td>\n",
              "      <td>12.0</td>\n",
              "      <td>-0.1</td>\n",
              "      <td>0.0</td>\n",
              "      <td>-8.9</td>\n",
              "    </tr>\n",
              "    <tr>\n",
              "      <th>2</th>\n",
              "      <td>NGC 362</td>\n",
              "      <td>NaN</td>\n",
              "      <td>01 03 14.26</td>\n",
              "      <td>-70 50 55.6</td>\n",
              "      <td>301.53</td>\n",
              "      <td>-46.25</td>\n",
              "      <td>8.6</td>\n",
              "      <td>9.4</td>\n",
              "      <td>3.1</td>\n",
              "      <td>-5.1</td>\n",
              "      <td>-6.2</td>\n",
              "    </tr>\n",
              "    <tr>\n",
              "      <th>3</th>\n",
              "      <td>Whiting 1</td>\n",
              "      <td>NaN</td>\n",
              "      <td>02 02 57</td>\n",
              "      <td>-03 15 10</td>\n",
              "      <td>161.22</td>\n",
              "      <td>-60.76</td>\n",
              "      <td>30.1</td>\n",
              "      <td>34.5</td>\n",
              "      <td>-13.9</td>\n",
              "      <td>4.7</td>\n",
              "      <td>-26.3</td>\n",
              "    </tr>\n",
              "    <tr>\n",
              "      <th>4</th>\n",
              "      <td>NGC 1261</td>\n",
              "      <td>NaN</td>\n",
              "      <td>03 12 16.21</td>\n",
              "      <td>-55 12 58.4</td>\n",
              "      <td>270.54</td>\n",
              "      <td>-52.12</td>\n",
              "      <td>16.3</td>\n",
              "      <td>18.1</td>\n",
              "      <td>0.1</td>\n",
              "      <td>-10.0</td>\n",
              "      <td>-12.9</td>\n",
              "    </tr>\n",
              "    <tr>\n",
              "      <th>...</th>\n",
              "      <td>...</td>\n",
              "      <td>...</td>\n",
              "      <td>...</td>\n",
              "      <td>...</td>\n",
              "      <td>...</td>\n",
              "      <td>...</td>\n",
              "      <td>...</td>\n",
              "      <td>...</td>\n",
              "      <td>...</td>\n",
              "      <td>...</td>\n",
              "      <td>...</td>\n",
              "    </tr>\n",
              "    <tr>\n",
              "      <th>152</th>\n",
              "      <td>NGC 7089</td>\n",
              "      <td>M 2</td>\n",
              "      <td>21 33 27.02</td>\n",
              "      <td>-00 49 23.7</td>\n",
              "      <td>53.37</td>\n",
              "      <td>-35.77</td>\n",
              "      <td>11.5</td>\n",
              "      <td>10.4</td>\n",
              "      <td>5.6</td>\n",
              "      <td>7.5</td>\n",
              "      <td>-6.7</td>\n",
              "    </tr>\n",
              "    <tr>\n",
              "      <th>153</th>\n",
              "      <td>NGC 7099</td>\n",
              "      <td>M 30</td>\n",
              "      <td>21 40 22.12</td>\n",
              "      <td>-23 10 47.5</td>\n",
              "      <td>27.18</td>\n",
              "      <td>-46.84</td>\n",
              "      <td>8.1</td>\n",
              "      <td>7.1</td>\n",
              "      <td>4.9</td>\n",
              "      <td>2.5</td>\n",
              "      <td>-5.9</td>\n",
              "    </tr>\n",
              "    <tr>\n",
              "      <th>154</th>\n",
              "      <td>Pal 12</td>\n",
              "      <td>NaN</td>\n",
              "      <td>21 46 38.84</td>\n",
              "      <td>-21 15 09.4</td>\n",
              "      <td>30.51</td>\n",
              "      <td>-47.68</td>\n",
              "      <td>19.0</td>\n",
              "      <td>15.8</td>\n",
              "      <td>11.0</td>\n",
              "      <td>6.5</td>\n",
              "      <td>-14.1</td>\n",
              "    </tr>\n",
              "    <tr>\n",
              "      <th>155</th>\n",
              "      <td>Pal 13</td>\n",
              "      <td>NaN</td>\n",
              "      <td>23 06 44.44</td>\n",
              "      <td>+12 46 19.2</td>\n",
              "      <td>87.10</td>\n",
              "      <td>-42.70</td>\n",
              "      <td>26.0</td>\n",
              "      <td>26.9</td>\n",
              "      <td>1.0</td>\n",
              "      <td>19.1</td>\n",
              "      <td>-17.6</td>\n",
              "    </tr>\n",
              "    <tr>\n",
              "      <th>156</th>\n",
              "      <td>NGC 7492</td>\n",
              "      <td>NaN</td>\n",
              "      <td>23 08 26.63</td>\n",
              "      <td>-15 36 41.4</td>\n",
              "      <td>53.39</td>\n",
              "      <td>-63.48</td>\n",
              "      <td>26.3</td>\n",
              "      <td>25.3</td>\n",
              "      <td>7.0</td>\n",
              "      <td>9.4</td>\n",
              "      <td>-23.5</td>\n",
              "    </tr>\n",
              "  </tbody>\n",
              "</table>\n",
              "<p>157 rows × 11 columns</p>\n",
              "</div>\n",
              "      <button class=\"colab-df-convert\" onclick=\"convertToInteractive('df-05bcda34-35e7-4f02-8533-ed852a67d3ff')\"\n",
              "              title=\"Convert this dataframe to an interactive table.\"\n",
              "              style=\"display:none;\">\n",
              "        \n",
              "  <svg xmlns=\"http://www.w3.org/2000/svg\" height=\"24px\"viewBox=\"0 0 24 24\"\n",
              "       width=\"24px\">\n",
              "    <path d=\"M0 0h24v24H0V0z\" fill=\"none\"/>\n",
              "    <path d=\"M18.56 5.44l.94 2.06.94-2.06 2.06-.94-2.06-.94-.94-2.06-.94 2.06-2.06.94zm-11 1L8.5 8.5l.94-2.06 2.06-.94-2.06-.94L8.5 2.5l-.94 2.06-2.06.94zm10 10l.94 2.06.94-2.06 2.06-.94-2.06-.94-.94-2.06-.94 2.06-2.06.94z\"/><path d=\"M17.41 7.96l-1.37-1.37c-.4-.4-.92-.59-1.43-.59-.52 0-1.04.2-1.43.59L10.3 9.45l-7.72 7.72c-.78.78-.78 2.05 0 2.83L4 21.41c.39.39.9.59 1.41.59.51 0 1.02-.2 1.41-.59l7.78-7.78 2.81-2.81c.8-.78.8-2.07 0-2.86zM5.41 20L4 18.59l7.72-7.72 1.47 1.35L5.41 20z\"/>\n",
              "  </svg>\n",
              "      </button>\n",
              "      \n",
              "  <style>\n",
              "    .colab-df-container {\n",
              "      display:flex;\n",
              "      flex-wrap:wrap;\n",
              "      gap: 12px;\n",
              "    }\n",
              "\n",
              "    .colab-df-convert {\n",
              "      background-color: #E8F0FE;\n",
              "      border: none;\n",
              "      border-radius: 50%;\n",
              "      cursor: pointer;\n",
              "      display: none;\n",
              "      fill: #1967D2;\n",
              "      height: 32px;\n",
              "      padding: 0 0 0 0;\n",
              "      width: 32px;\n",
              "    }\n",
              "\n",
              "    .colab-df-convert:hover {\n",
              "      background-color: #E2EBFA;\n",
              "      box-shadow: 0px 1px 2px rgba(60, 64, 67, 0.3), 0px 1px 3px 1px rgba(60, 64, 67, 0.15);\n",
              "      fill: #174EA6;\n",
              "    }\n",
              "\n",
              "    [theme=dark] .colab-df-convert {\n",
              "      background-color: #3B4455;\n",
              "      fill: #D2E3FC;\n",
              "    }\n",
              "\n",
              "    [theme=dark] .colab-df-convert:hover {\n",
              "      background-color: #434B5C;\n",
              "      box-shadow: 0px 1px 3px 1px rgba(0, 0, 0, 0.15);\n",
              "      filter: drop-shadow(0px 1px 2px rgba(0, 0, 0, 0.3));\n",
              "      fill: #FFFFFF;\n",
              "    }\n",
              "  </style>\n",
              "\n",
              "      <script>\n",
              "        const buttonEl =\n",
              "          document.querySelector('#df-05bcda34-35e7-4f02-8533-ed852a67d3ff button.colab-df-convert');\n",
              "        buttonEl.style.display =\n",
              "          google.colab.kernel.accessAllowed ? 'block' : 'none';\n",
              "\n",
              "        async function convertToInteractive(key) {\n",
              "          const element = document.querySelector('#df-05bcda34-35e7-4f02-8533-ed852a67d3ff');\n",
              "          const dataTable =\n",
              "            await google.colab.kernel.invokeFunction('convertToInteractive',\n",
              "                                                     [key], {});\n",
              "          if (!dataTable) return;\n",
              "\n",
              "          const docLinkHtml = 'Like what you see? Visit the ' +\n",
              "            '<a target=\"_blank\" href=https://colab.research.google.com/notebooks/data_table.ipynb>data table notebook</a>'\n",
              "            + ' to learn more about interactive tables.';\n",
              "          element.innerHTML = '';\n",
              "          dataTable['output_type'] = 'display_data';\n",
              "          await google.colab.output.renderOutput(dataTable, element);\n",
              "          const docLink = document.createElement('div');\n",
              "          docLink.innerHTML = docLinkHtml;\n",
              "          element.appendChild(docLink);\n",
              "        }\n",
              "      </script>\n",
              "    </div>\n",
              "  </div>\n",
              "  "
            ]
          },
          "metadata": {}
        }
      ]
    },
    {
      "cell_type": "markdown",
      "source": [
        "### **1.2.2 요약 정보 확인하기**"
      ],
      "metadata": {
        "id": "pXL_qKyieGd5"
      }
    },
    {
      "cell_type": "markdown",
      "source": [
        "*   분석하려는 구상성단 데이터의 요약 정보를 확인합니다.\n",
        "*   각 열의 행 개수, 데이터 유형(type)을 확인합니다. (float64:실수형, object:문자형)"
      ],
      "metadata": {
        "id": "yJ-AhV6u7Vm7"
      }
    },
    {
      "cell_type": "code",
      "source": [
        "print(df.info()) # 요약 정보"
      ],
      "metadata": {
        "colab": {
          "base_uri": "https://localhost:8080/"
        },
        "id": "FE7k1Arj2z-q",
        "outputId": "2f3419dd-80d1-403a-a574-3eead2954c9d"
      },
      "execution_count": 5,
      "outputs": [
        {
          "output_type": "stream",
          "name": "stdout",
          "text": [
            "<class 'pandas.core.frame.DataFrame'>\n",
            "RangeIndex: 157 entries, 0 to 156\n",
            "Data columns (total 11 columns):\n",
            " #   Column  Non-Null Count  Dtype  \n",
            "---  ------  --------------  -----  \n",
            " 0   ID      157 non-null    object \n",
            " 1   Name    51 non-null     object \n",
            " 2   RA      157 non-null    object \n",
            " 3   DEC     157 non-null    object \n",
            " 4   L       157 non-null    float64\n",
            " 5   B       157 non-null    float64\n",
            " 6   R_Sun   157 non-null    float64\n",
            " 7   R_gc    157 non-null    float64\n",
            " 8   X       157 non-null    float64\n",
            " 9   Y       157 non-null    float64\n",
            " 10  Z       157 non-null    float64\n",
            "dtypes: float64(7), object(4)\n",
            "memory usage: 13.6+ KB\n",
            "None\n"
          ]
        }
      ]
    },
    {
      "cell_type": "markdown",
      "source": [
        "### **1.2.3 기술 통계 확인하기**"
      ],
      "metadata": {
        "id": "NUcndjejeLU6"
      }
    },
    {
      "cell_type": "markdown",
      "source": [
        "*   분석하려는 구상성단 데이터의 기술 통계를 확인합니다.\n",
        "*   각 열마다 데이터 개수(count), 평균(mean), 표준편차(std), 최소값(min), 1사분위수(25%), 2사분위수(50%), 3사분위수(75%), 최고값(max)를 확인합니다."
      ],
      "metadata": {
        "id": "0T8bCfLB7hJS"
      }
    },
    {
      "cell_type": "code",
      "source": [
        "print(df.describe()) # 기술 통계"
      ],
      "metadata": {
        "colab": {
          "base_uri": "https://localhost:8080/"
        },
        "id": "nlyw0z-72-rh",
        "outputId": "31050577-e113-4beb-ce7a-79ff1a76e731"
      },
      "execution_count": 6,
      "outputs": [
        {
          "output_type": "stream",
          "name": "stdout",
          "text": [
            "                L           B       R_Sun        R_gc           X           Y  \\\n",
            "count  157.000000  157.000000  157.000000  157.000000  157.000000  157.000000   \n",
            "mean   164.157834    1.567389   15.420382   12.384076    6.014013   -1.377707   \n",
            "std    151.686059   27.119173   18.484681   19.846761   12.671993   11.298568   \n",
            "min      0.070000  -89.380000    2.200000    0.500000  -74.700000  -80.100000   \n",
            "25%      9.890000  -10.900000    7.100000    2.700000    3.600000   -2.600000   \n",
            "50%     87.100000   -0.610000    9.400000    5.100000    7.000000    0.100000   \n",
            "75%    332.960000   11.020000   15.600000   14.400000    9.800000    1.600000   \n",
            "max    359.590000   79.760000  123.300000  124.600000   49.700000   34.800000   \n",
            "\n",
            "                Z  \n",
            "count  157.000000  \n",
            "mean     1.148408  \n",
            "std     15.906339  \n",
            "min    -92.300000  \n",
            "25%     -1.600000  \n",
            "50%     -0.100000  \n",
            "75%      1.700000  \n",
            "max    103.200000  \n"
          ]
        }
      ]
    },
    {
      "cell_type": "markdown",
      "source": [
        "# **2 데이터 처리**"
      ],
      "metadata": {
        "id": "GY4kDWhs7vv4"
      }
    },
    {
      "cell_type": "markdown",
      "source": [
        "## **2.1 데이터 정제**"
      ],
      "metadata": {
        "id": "8vWdkjIp70Vr"
      }
    },
    {
      "cell_type": "markdown",
      "source": [
        "### **2.1.1 분석하고자 하는 열만 추출한 후 데이터 정보 확인하기**"
      ],
      "metadata": {
        "id": "fxVrerKg7vez"
      }
    },
    {
      "cell_type": "markdown",
      "source": [
        "\n",
        "*   11개의 열 중 카테시안 좌표를 의미하는 X, Y, Z 열 3개만 분석에 사용하기 위해 추출합니다."
      ],
      "metadata": {
        "id": "ZJgsX5Of8qig"
      }
    },
    {
      "cell_type": "code",
      "source": [
        "df_xyz = df[['X', 'Y', 'Z']] # X, Y, Z 열만 추출\n",
        "display(df_xyz) # 정보 확인"
      ],
      "metadata": {
        "colab": {
          "base_uri": "https://localhost:8080/",
          "height": 424
        },
        "id": "UDgahStX-G5z",
        "outputId": "91b5e29f-18eb-45f6-ba25-75d4bc6fe0e5"
      },
      "execution_count": 7,
      "outputs": [
        {
          "output_type": "display_data",
          "data": {
            "text/plain": [
              "        X     Y     Z\n",
              "0     1.9  -2.6  -3.1\n",
              "1    -0.1   0.0  -8.9\n",
              "2     3.1  -5.1  -6.2\n",
              "3   -13.9   4.7 -26.3\n",
              "4     0.1 -10.0 -12.9\n",
              "..    ...   ...   ...\n",
              "152   5.6   7.5  -6.7\n",
              "153   4.9   2.5  -5.9\n",
              "154  11.0   6.5 -14.1\n",
              "155   1.0  19.1 -17.6\n",
              "156   7.0   9.4 -23.5\n",
              "\n",
              "[157 rows x 3 columns]"
            ],
            "text/html": [
              "\n",
              "  <div id=\"df-feff64b5-0510-4049-a45b-12c92686db54\">\n",
              "    <div class=\"colab-df-container\">\n",
              "      <div>\n",
              "<style scoped>\n",
              "    .dataframe tbody tr th:only-of-type {\n",
              "        vertical-align: middle;\n",
              "    }\n",
              "\n",
              "    .dataframe tbody tr th {\n",
              "        vertical-align: top;\n",
              "    }\n",
              "\n",
              "    .dataframe thead th {\n",
              "        text-align: right;\n",
              "    }\n",
              "</style>\n",
              "<table border=\"1\" class=\"dataframe\">\n",
              "  <thead>\n",
              "    <tr style=\"text-align: right;\">\n",
              "      <th></th>\n",
              "      <th>X</th>\n",
              "      <th>Y</th>\n",
              "      <th>Z</th>\n",
              "    </tr>\n",
              "  </thead>\n",
              "  <tbody>\n",
              "    <tr>\n",
              "      <th>0</th>\n",
              "      <td>1.9</td>\n",
              "      <td>-2.6</td>\n",
              "      <td>-3.1</td>\n",
              "    </tr>\n",
              "    <tr>\n",
              "      <th>1</th>\n",
              "      <td>-0.1</td>\n",
              "      <td>0.0</td>\n",
              "      <td>-8.9</td>\n",
              "    </tr>\n",
              "    <tr>\n",
              "      <th>2</th>\n",
              "      <td>3.1</td>\n",
              "      <td>-5.1</td>\n",
              "      <td>-6.2</td>\n",
              "    </tr>\n",
              "    <tr>\n",
              "      <th>3</th>\n",
              "      <td>-13.9</td>\n",
              "      <td>4.7</td>\n",
              "      <td>-26.3</td>\n",
              "    </tr>\n",
              "    <tr>\n",
              "      <th>4</th>\n",
              "      <td>0.1</td>\n",
              "      <td>-10.0</td>\n",
              "      <td>-12.9</td>\n",
              "    </tr>\n",
              "    <tr>\n",
              "      <th>...</th>\n",
              "      <td>...</td>\n",
              "      <td>...</td>\n",
              "      <td>...</td>\n",
              "    </tr>\n",
              "    <tr>\n",
              "      <th>152</th>\n",
              "      <td>5.6</td>\n",
              "      <td>7.5</td>\n",
              "      <td>-6.7</td>\n",
              "    </tr>\n",
              "    <tr>\n",
              "      <th>153</th>\n",
              "      <td>4.9</td>\n",
              "      <td>2.5</td>\n",
              "      <td>-5.9</td>\n",
              "    </tr>\n",
              "    <tr>\n",
              "      <th>154</th>\n",
              "      <td>11.0</td>\n",
              "      <td>6.5</td>\n",
              "      <td>-14.1</td>\n",
              "    </tr>\n",
              "    <tr>\n",
              "      <th>155</th>\n",
              "      <td>1.0</td>\n",
              "      <td>19.1</td>\n",
              "      <td>-17.6</td>\n",
              "    </tr>\n",
              "    <tr>\n",
              "      <th>156</th>\n",
              "      <td>7.0</td>\n",
              "      <td>9.4</td>\n",
              "      <td>-23.5</td>\n",
              "    </tr>\n",
              "  </tbody>\n",
              "</table>\n",
              "<p>157 rows × 3 columns</p>\n",
              "</div>\n",
              "      <button class=\"colab-df-convert\" onclick=\"convertToInteractive('df-feff64b5-0510-4049-a45b-12c92686db54')\"\n",
              "              title=\"Convert this dataframe to an interactive table.\"\n",
              "              style=\"display:none;\">\n",
              "        \n",
              "  <svg xmlns=\"http://www.w3.org/2000/svg\" height=\"24px\"viewBox=\"0 0 24 24\"\n",
              "       width=\"24px\">\n",
              "    <path d=\"M0 0h24v24H0V0z\" fill=\"none\"/>\n",
              "    <path d=\"M18.56 5.44l.94 2.06.94-2.06 2.06-.94-2.06-.94-.94-2.06-.94 2.06-2.06.94zm-11 1L8.5 8.5l.94-2.06 2.06-.94-2.06-.94L8.5 2.5l-.94 2.06-2.06.94zm10 10l.94 2.06.94-2.06 2.06-.94-2.06-.94-.94-2.06-.94 2.06-2.06.94z\"/><path d=\"M17.41 7.96l-1.37-1.37c-.4-.4-.92-.59-1.43-.59-.52 0-1.04.2-1.43.59L10.3 9.45l-7.72 7.72c-.78.78-.78 2.05 0 2.83L4 21.41c.39.39.9.59 1.41.59.51 0 1.02-.2 1.41-.59l7.78-7.78 2.81-2.81c.8-.78.8-2.07 0-2.86zM5.41 20L4 18.59l7.72-7.72 1.47 1.35L5.41 20z\"/>\n",
              "  </svg>\n",
              "      </button>\n",
              "      \n",
              "  <style>\n",
              "    .colab-df-container {\n",
              "      display:flex;\n",
              "      flex-wrap:wrap;\n",
              "      gap: 12px;\n",
              "    }\n",
              "\n",
              "    .colab-df-convert {\n",
              "      background-color: #E8F0FE;\n",
              "      border: none;\n",
              "      border-radius: 50%;\n",
              "      cursor: pointer;\n",
              "      display: none;\n",
              "      fill: #1967D2;\n",
              "      height: 32px;\n",
              "      padding: 0 0 0 0;\n",
              "      width: 32px;\n",
              "    }\n",
              "\n",
              "    .colab-df-convert:hover {\n",
              "      background-color: #E2EBFA;\n",
              "      box-shadow: 0px 1px 2px rgba(60, 64, 67, 0.3), 0px 1px 3px 1px rgba(60, 64, 67, 0.15);\n",
              "      fill: #174EA6;\n",
              "    }\n",
              "\n",
              "    [theme=dark] .colab-df-convert {\n",
              "      background-color: #3B4455;\n",
              "      fill: #D2E3FC;\n",
              "    }\n",
              "\n",
              "    [theme=dark] .colab-df-convert:hover {\n",
              "      background-color: #434B5C;\n",
              "      box-shadow: 0px 1px 3px 1px rgba(0, 0, 0, 0.15);\n",
              "      filter: drop-shadow(0px 1px 2px rgba(0, 0, 0, 0.3));\n",
              "      fill: #FFFFFF;\n",
              "    }\n",
              "  </style>\n",
              "\n",
              "      <script>\n",
              "        const buttonEl =\n",
              "          document.querySelector('#df-feff64b5-0510-4049-a45b-12c92686db54 button.colab-df-convert');\n",
              "        buttonEl.style.display =\n",
              "          google.colab.kernel.accessAllowed ? 'block' : 'none';\n",
              "\n",
              "        async function convertToInteractive(key) {\n",
              "          const element = document.querySelector('#df-feff64b5-0510-4049-a45b-12c92686db54');\n",
              "          const dataTable =\n",
              "            await google.colab.kernel.invokeFunction('convertToInteractive',\n",
              "                                                     [key], {});\n",
              "          if (!dataTable) return;\n",
              "\n",
              "          const docLinkHtml = 'Like what you see? Visit the ' +\n",
              "            '<a target=\"_blank\" href=https://colab.research.google.com/notebooks/data_table.ipynb>data table notebook</a>'\n",
              "            + ' to learn more about interactive tables.';\n",
              "          element.innerHTML = '';\n",
              "          dataTable['output_type'] = 'display_data';\n",
              "          await google.colab.output.renderOutput(dataTable, element);\n",
              "          const docLink = document.createElement('div');\n",
              "          docLink.innerHTML = docLinkHtml;\n",
              "          element.appendChild(docLink);\n",
              "        }\n",
              "      </script>\n",
              "    </div>\n",
              "  </div>\n",
              "  "
            ]
          },
          "metadata": {}
        }
      ]
    },
    {
      "cell_type": "markdown",
      "source": [
        "*    X, Y, Z의 요약 정보를 확인합니다.\n",
        "*    X, Y, Z의 데이터가 모두 157개 임을 확인합니다."
      ],
      "metadata": {
        "id": "awnpFH36Ammk"
      }
    },
    {
      "cell_type": "code",
      "source": [
        "print(df_xyz.info())"
      ],
      "metadata": {
        "colab": {
          "base_uri": "https://localhost:8080/"
        },
        "id": "qSlMVdZW-j3D",
        "outputId": "e69db088-7594-433b-ac30-38318519d235"
      },
      "execution_count": 8,
      "outputs": [
        {
          "output_type": "stream",
          "name": "stdout",
          "text": [
            "<class 'pandas.core.frame.DataFrame'>\n",
            "RangeIndex: 157 entries, 0 to 156\n",
            "Data columns (total 3 columns):\n",
            " #   Column  Non-Null Count  Dtype  \n",
            "---  ------  --------------  -----  \n",
            " 0   X       157 non-null    float64\n",
            " 1   Y       157 non-null    float64\n",
            " 2   Z       157 non-null    float64\n",
            "dtypes: float64(3)\n",
            "memory usage: 3.8 KB\n",
            "None\n"
          ]
        }
      ]
    },
    {
      "cell_type": "markdown",
      "source": [
        "### **2.1.2 결측값 확인 및 결측값 처리하기** "
      ],
      "metadata": {
        "id": "Oi8OWdzdBC-s"
      }
    },
    {
      "cell_type": "markdown",
      "source": [
        "*  X, Y, Z의 결측값 개수가 모두 0개 임을 확인합니다.\n",
        "*  처리할 결측값이 없음을 확인합니다."
      ],
      "metadata": {
        "id": "-c_tEDm4BGv_"
      }
    },
    {
      "cell_type": "code",
      "source": [
        "print('X, Y, Z의 결측값 개수:', df_xyz.isnull().sum(), sep='\\n') # X, Y, Z별 결측값 합계"
      ],
      "metadata": {
        "colab": {
          "base_uri": "https://localhost:8080/"
        },
        "id": "MED6Fon_-KaQ",
        "outputId": "1c6ddbfa-1f72-4888-d18a-69637d1bddfa"
      },
      "execution_count": 9,
      "outputs": [
        {
          "output_type": "stream",
          "name": "stdout",
          "text": [
            "X, Y, Z의 결측값 개수:\n",
            "X    0\n",
            "Y    0\n",
            "Z    0\n",
            "dtype: int64\n"
          ]
        }
      ]
    },
    {
      "cell_type": "markdown",
      "source": [
        "## **2.2 데이터 변환**"
      ],
      "metadata": {
        "id": "v1sczvdRBfsU"
      }
    },
    {
      "cell_type": "markdown",
      "source": [
        "### **2.2.1 X, Y, Z 열을 각각 독립적인 열로 추출하기**"
      ],
      "metadata": {
        "id": "mZSc_KKZBfcY"
      }
    },
    {
      "cell_type": "markdown",
      "source": [
        "*   df_xyz 변수에 하나로 묶인 X, Y, Z 열을 각각 독립적인 X 열, Y 열, Z 열로 추출합니다."
      ],
      "metadata": {
        "id": "Tlo84UUyBzFv"
      }
    },
    {
      "cell_type": "code",
      "execution_count": 10,
      "metadata": {
        "id": "j3HPikpo1aC5"
      },
      "outputs": [],
      "source": [
        "X = df_xyz['X'] # X 열만 추출 -> 변수 X에 저장\n",
        "Y = df_xyz['Y'] # Y 열만 추출 -> 변수 Y에 저장\n",
        "Z = df_xyz['Z'] # Z 열만 추출 -> 변수 Z에 저장"
      ]
    },
    {
      "cell_type": "markdown",
      "metadata": {
        "id": "xkyW8Tc71aC9"
      },
      "source": [
        "# **3a 데이터 분석 및 표현(원본 데이터를 사용할 때)**"
      ]
    },
    {
      "cell_type": "markdown",
      "source": [
        "## **3a.1 데이터 시각화**"
      ],
      "metadata": {
        "id": "LI-_4PsdHFNo"
      }
    },
    {
      "cell_type": "markdown",
      "source": [
        "### **3a.1.1 원본 x, y, z축 데이터(좌표)를 통해 구상성단 분포 시각화**"
      ],
      "metadata": {
        "id": "iUkGTzo0aJFt"
      }
    },
    {
      "cell_type": "markdown",
      "source": [
        "*   좌표평면 그림을 정의하는 함수를 만듭니다.\n",
        "*   좌표평면에 카테시안 좌표 x, y, z를 변수로 한 구상 성단 분포를 여러가지 기호 스타일, 범례를 사용해 표현합니다.\n",
        "*   그려질 총 좌표평면 그림이 4개 이므로 2행 2열로 그림을 배치합니다. \n",
        "*   1행 1열에는 x, y, z축의 3D 구상성단 분포를 배치합니다.\n",
        "*   1행 2열에는 x, y축의 2D 구상성단 분포를 배치합니다.\n",
        "*   2행 1열에는 x, z축의 2D 구상성단 분포를 배치합니다.\n",
        "*   2행 2열에는 y, z축의 2D 구상성단 분포를 배치합니다. "
      ],
      "metadata": {
        "id": "oYUmeiN1EDJP"
      }
    },
    {
      "cell_type": "code",
      "source": [
        "def visualization(x, y, z): # x축, y축, z축 데이터를 입력값으로 사용하는 그림 시각화 함수 생성\n",
        "  fig = plt.figure(figsize=(15,15)) # 그림 크기 지정\n",
        "  # 좌표평면 그림에 각 기호 스타일(색깔, 크기, 레이블) 지정\n",
        "  # 3차원 그림 생성\n",
        "  ax1 = fig.add_subplot(221, projection='3d') # 2행 2열 첫 번째 3D 그림 생성\n",
        "  ax1.scatter(x,y,z, c='red', marker='o', s=15, alpha=0.5) # 분산형 분포 생성 및 스타일(색깔, 모양, 크기, 투명도) 지정 - 구상성단 위치\n",
        "  ax1.set_xlabel('x(kpc)', fontsize=15, labelpad=10) # x축 제목 스타일(크기, 패드) 지정\n",
        "  ax1.set_ylabel('y(kpc)', fontsize=15, labelpad=10) # y축 제목 스타일(크기, 패드) 지정\n",
        "  ax1.set_zlabel('z(kpc)', fontsize=15, labelpad=10) # z축 제목 스타일(크기, 패드) 지정\n",
        "  ax1.tick_params(labelsize=12, length=5, width=5) # 축 눈금 스타일(크기, 길이, 폭) 지정\n",
        "  ax1.set_title('Globular Cluster Distribution in Milky Way', fontsize=20) # 제목 스타일(크기) 지정\n",
        "\n",
        "  # X-Y 좌표평면 그림 생성\n",
        "  ax2=fig.add_subplot(222) # 2행 2열 두 번째 2D 그림 생성\n",
        "  ax2.plot(x,y,'+', ms='10', mec='red', mfc='red', label='Globular Cluster') # 좌표평면 기호 스타일(모양, 크기, 색깔) 지정 - 구상성단 위치\n",
        "  ax2.plot(0,0,'o', ms='15', mec='blue', mfc='blue', label='Solar System') # 좌표 평면 기호 스타일(모양, 크기, 색깔) 지정 - 태양계 위치\n",
        "  ax2.set_xlabel('x(kpc)', fontsize=15, labelpad=10) # x축 제목 스타일(크기, 패드) 지정\n",
        "  ax2.set_ylabel('y(kpc)', fontsize=15, labelpad=10) # y축 제목 스타일(크기, 패드) 지정\n",
        "  ax2.tick_params(labelsize=12, length=5, width=5) # 축 눈금 스타일(크기, 길이, 폭) 지정\n",
        "  ax2.legend(loc='best', fontsize=12) # 범례 스타일(위치, 크기) 지정\n",
        "  ax2.set_title('X-Y', fontsize=20) # 제목 스타일(크기) 지정\n",
        "  ax2.grid(True) # 격자 생성\n",
        "\n",
        "  # X-Z 좌표평면 그림 생성\n",
        "  ax3=fig.add_subplot(223) # 2행 2열 세 번째 2D 그림 생성\n",
        "  ax3.plot(x,z,'+', ms='10', mec='red', mfc='red', label='Globular Cluster') # 좌표평면 기호 스타일(모양, 크기, 색깔) 지정 - 구상성단 위치\n",
        "  ax3.plot(0,0,'o', ms='15', mec='blue', mfc='blue', label='Solar System') # 좌표 평면 기호 스타일(모양, 크기, 색깔) 지정 - 태양계 위치  \n",
        "  ax3.set_xlabel('x(kpc)', fontsize=15, labelpad=10) # x축 제목 스타일(크기, 패드) 지정\n",
        "  ax3.set_ylabel('z(kpc)', fontsize=15, labelpad=10) # z축 제목 스타일(크기, 패드) 지정\n",
        "  ax3.tick_params(labelsize=12, length=5, width=5) # 축 눈금 스타일(크기, 길이, 폭) 지정\n",
        "  ax3.legend(loc='best', fontsize=12) # 범례 스타일(위치, 크기) 지정\n",
        "  ax3.set_title('X-Z', fontsize=20) # 제목 스타일(크기) 지정\n",
        "  ax3.grid(True) # 격자 생성\n",
        "\n",
        "  # Y-Z 좌표평면 그림 생성\n",
        "  ax4=fig.add_subplot(224) # 2행 2열 네 번째 2D 그림 생성\n",
        "  ax4.plot(y,z,'+', ms='10', mec='red', mfc='red', label='Globular Cluster') # 좌표평면 기호 스타일(모양, 크기, 색깔) 지정 - 구상성단 위치\n",
        "  ax4.plot(0,0,'o', ms='15', mec='blue', mfc='blue', label='Solar System') # 좌표평면 기호 스타일(모양, 크기, 색깔) 지정 - 태양계 위치\n",
        "  ax4.set_xlabel('y(kpc)', fontsize=15, labelpad=10)  # y축 제목 스타일(크기, 패드) 지정\n",
        "  ax4.set_ylabel('z(kpc)', fontsize=15, labelpad=10)  # z축 제목 스타일(크기, 패드) 지정\n",
        "  ax4.tick_params(labelsize=12, length=5, width=5) # 축 눈금 스타일(크기, 길이, 폭) 지정\n",
        "  ax4.legend(loc='best', fontsize=12) # 범례 스타일(위치, 크기) 지정\n",
        "  ax4.set_title('Y-Z', fontsize=20) # 제목 스타일(크기) 지정 \n",
        "  ax4.grid(True) # 격자 생성\n",
        "  plt.show()"
      ],
      "metadata": {
        "id": "IqbMUFDrkI6s"
      },
      "execution_count": 11,
      "outputs": []
    },
    {
      "cell_type": "markdown",
      "source": [
        "*   위에서 만든 visualization 함수에 원본 x, y, z축 데이터(좌표)가 담긴 X, Y, Z 변수를 입력하여 구상성단의 분포를 확인합니다."
      ],
      "metadata": {
        "id": "UU_p2v9ClXQu"
      }
    },
    {
      "cell_type": "code",
      "source": [
        "visualization(X, Y, Z)"
      ],
      "metadata": {
        "colab": {
          "base_uri": "https://localhost:8080/",
          "height": 914
        },
        "id": "0ke-mvpek9OC",
        "outputId": "e2dc6d44-7705-4eef-e20f-c6bb48041a4d"
      },
      "execution_count": 12,
      "outputs": [
        {
          "output_type": "display_data",
          "data": {
            "text/plain": [
              "<Figure size 1080x1080 with 4 Axes>"
            ],
            "image/png": "[encoded data removed]"
          },
          "metadata": {
            "needs_background": "light"
          }
        }
      ]
    },
    {
      "cell_type": "markdown",
      "source": [
        "## **3a.2 데이터 수치 분석**"
      ],
      "metadata": {
        "id": "3rRa5AFoG-xx"
      }
    },
    {
      "cell_type": "markdown",
      "source": [
        "### **3a.2.1 원본 x, y, z축 데이터(좌표)가 담긴 X, Y, Z 변수를 통해 우리은하 질량 중심 찾기 & 태양계로부터 우리은하 중심까지의 거리 구하기**"
      ],
      "metadata": {
        "id": "itLH_mVmHhY3"
      }
    },
    {
      "cell_type": "markdown",
      "metadata": {
        "id": "XyL7ZPcf1aDD"
      },
      "source": [
        "*   질량 중심 찾기 및 우리은하 중심까지의 거리를 계산하는 함수를 만듭니다.\n",
        "*   x, y, z축 데이터(좌표)의 평균을 계산하여 질량 중심을 찾으며, 소수 둘째 자리까지만 표현합니다.\n",
        "*   x, y, z축 데이터(좌표)의 평균으로부터 제곱근을 구해 우리은하 중심까지의 거리를 구하며, 소수 둘째 자리까지만 표현합니다.\n",
        "*   x축 방향에서 구성성단 분포 데이터(좌표)의 최솟값과 최댓값을 구하며, 소수 둘째 자리까지만 표현합니다.\n",
        "*   y축 방향에서 구성성단 분포 데이터(좌표)의 최솟값과 최댓값을 구하며, 소수 둘째 자리까지만 표현합니다.\n",
        "*   z축 방향에서 구성성단 분포 데이터(좌표)의 최솟값과 최댓값을 구하며, 소수 둘째 자리까지만 표현합니다."
      ]
    },
    {
      "cell_type": "code",
      "source": [
        "def calculation(x, y, z): # x축, y축, z축 데이터(좌표)를 입력값으로 사용하는 계산 함수 생성\n",
        "  # x, y, z축 데이터(좌표)를 통해 우리은하 질량 중심 찾기\n",
        "  m_x = x.mean() # x축 데이터(좌표) 평균\n",
        "  m_y = y.mean() # y축 데이터(좌표) 평균\n",
        "  m_z = z.mean() # z축 데이터(좌표) 평균\n",
        "  print('x,y,z축 질량 중심(kpc):', format(m_x, '.2f'), format(m_y, '.2f'), format(m_z, '.2f')) # 각 축 질량 중심(소수 셋째 둘째 자리까지 표현)\n",
        "\n",
        "  # x, y, z축 데이터(좌표)를 통해 태양계로부터 우리은하 중심까지의 거리 구하기\n",
        "  m_xyz = [m_x, m_y, m_z] # 각 x, y, z축 평균값인 질량 중심 좌표값 모으기\n",
        "  square_xyz = np.square(m_xyz) # 질량 중심 좌표값 제곱하기 \n",
        "  sum_xyz = np.sum(square_xyz) # 제곱한 값 합하기\n",
        "  sqrt_xyz = np.sqrt(sum_xyz) # 합한 제곱값을 제곱근으로 표현하여 거리 구하기\n",
        "  print('우리은하 중심까지의 거리(kpc):', format(sqrt_xyz, '.2f')) # 벡터 거리(소수 셋째 둘째 자리까지 표현)\n",
        "\n",
        "  # x, y, z축의 데이터(좌표)를 통해 구상성단 분포확인하기\n",
        "  min_x = x.min() # x축 데이터(좌표) 최솟값\n",
        "  max_x = x.max() # x축 데이터(좌표) 최댓값\n",
        "  di_x = max_x - min_x # x축 데이터(좌표) 거리\n",
        "  print('x축 방향에서 구상성단 분포 데이터(좌표)의 최솟값, 최댓값, 직경(kpc):', format(min_x, '.2f'), format(max_x, '.2f'), format(di_x, '.2f')) # 소수 셋째 둘째 자리까지 표현 \n",
        "\n",
        "  min_y = y.min() # y축 데이터(좌표) 최솟값\n",
        "  max_y = y.max() # y축 데이터(좌표) 최댓값\n",
        "  di_y = max_y - min_y # y축 데이터(좌표) 거리 \n",
        "  print('y축 방향에서 구상성단 분포 데이터(좌표)의 최솟값, 최댓값, 직경(kpc):', format(min_y, '.2f'), format(max_y, '.2f'), format(di_y, '.2f')) # 소수 셋째 둘째 자리까지 표현\n",
        "\n",
        "  min_z = z.min() # z축 데이터(좌표) 최솟값\n",
        "  max_z = z.max() # z축 데이터(좌표) 최댓값\n",
        "  di_z = max_z - min_z # z축 데이터(좌표) 거리 \n",
        "  print('z축 방향에서 구상성단 분포 데이터(좌표)의 최솟값, 최댓값, 직경(kpc):', format(min_z, '.2f'), format(max_z, '.2f'), format(di_z, '.2f')) # 소수 셋째 둘째 자리까지 표현"
      ],
      "metadata": {
        "id": "IW1-YzNonOXl"
      },
      "execution_count": 13,
      "outputs": []
    },
    {
      "cell_type": "markdown",
      "source": [
        "*   위에서 만든 calculation 함수에 원본 x, y, z 축 데이터(좌표)가 담긴 X, Y, Z 변수를 입력합니다.\n",
        "*   우리은하 질량 중심 위치와 태양계로부터 우리은하 중심까지의 거리를 확인합니다.\n",
        "*   구상성단은 대체로 구형 분포를 하기에, 구형 분포에서 벗어나 상당히 멀리 존재하는 구상성단을, 위 그림과 x, y, z축 좌표의 최솟값과 최댓값을 통해 확인합니다."
      ],
      "metadata": {
        "id": "nTbSfsWCqqdN"
      }
    },
    {
      "cell_type": "code",
      "source": [
        "calculation(X, Y, Z)"
      ],
      "metadata": {
        "colab": {
          "base_uri": "https://localhost:8080/"
        },
        "id": "Q5g5hu2MoGab",
        "outputId": "51fdfb8e-5665-4a98-9e37-b694df342e83"
      },
      "execution_count": 14,
      "outputs": [
        {
          "output_type": "stream",
          "name": "stdout",
          "text": [
            "x,y,z축 질량 중심(kpc): 6.01 -1.38 1.15\n",
            "우리은하 중심까지의 거리(kpc): 6.28\n",
            "x축 방향에서 구상성단 분포 데이터(좌표)의 최솟값, 최댓값, 직경(kpc): -74.70 49.70 124.40\n",
            "y축 방향에서 구상성단 분포 데이터(좌표)의 최솟값, 최댓값, 직경(kpc): -80.10 34.80 114.90\n",
            "z축 방향에서 구상성단 분포 데이터(좌표)의 최솟값, 최댓값, 직경(kpc): -92.30 103.20 195.50\n"
          ]
        }
      ]
    },
    {
      "cell_type": "markdown",
      "source": [
        "# **3b 데이터 재분석 및 표현(데이터를 재처리한 것을 사용할 때)**"
      ],
      "metadata": {
        "id": "cy1uQ3Nkhv6f"
      }
    },
    {
      "cell_type": "markdown",
      "source": [
        "## **3b.0 데이터 재처리**"
      ],
      "metadata": {
        "id": "mGzzjX_fU1O5"
      }
    },
    {
      "cell_type": "markdown",
      "source": [
        "### **3b.0.1 데이터 재변환**"
      ],
      "metadata": {
        "id": "YSUn0Jl5U1B3"
      }
    },
    {
      "cell_type": "markdown",
      "source": [
        "*   원본인 X, Y , Z 열의 데이터(좌표)를 내림차순((descending), 오름차순(ascending) 정렬합니다."
      ],
      "metadata": {
        "id": "zCILGbOPJ5ox"
      }
    },
    {
      "cell_type": "code",
      "source": [
        "df_xyz['X_descen'] = df_xyz.sort_values(by='X', ascending=False)['X'].reset_index(drop=True) # 원본 X 열 내림차순 정렬\n",
        "df_xyz['X_ascen'] = df_xyz.sort_values(by='X', ascending=True)['X'].reset_index(drop=True) # 원본 X 열 오름차순 정렬\n",
        "df_xyz['Y_descen'] = df_xyz.sort_values(by='Y', ascending=False)['Y'].reset_index(drop=True) # 원본 Y 열 내림차순 정렬\n",
        "df_xyz['Y_ascen'] = df_xyz.sort_values(by='Y', ascending=True)['Y'].reset_index(drop=True) # 원본 Y 열 오름차순 정렬\n",
        "df_xyz['Z_descen'] = df_xyz.sort_values(by='Z', ascending=False)['Z'].reset_index(drop=True) # 원본 Z 열 내림차순 정렬\n",
        "df_xyz['Z_ascen'] = df_xyz.sort_values(by='Z', ascending=True)['Z'].reset_index(drop=True) # 원본 Z 열 오름차순 정렬\n",
        "\n",
        "display('각 열의 상위 20개 데이터(좌표):', df_xyz.head(20))"
      ],
      "metadata": {
        "colab": {
          "base_uri": "https://localhost:8080/",
          "height": 1000
        },
        "id": "P8mlke3jEpp8",
        "outputId": "18f362ef-25f5-46cf-f0c7-5457f0e92fe3"
      },
      "execution_count": 15,
      "outputs": [
        {
          "output_type": "stream",
          "name": "stderr",
          "text": [
            "<ipython-input-15-01f16c2ecdb6>:1: SettingWithCopyWarning: \n",
            "A value is trying to be set on a copy of a slice from a DataFrame.\n",
            "Try using .loc[row_indexer,col_indexer] = value instead\n",
            "\n",
            "See the caveats in the documentation: https://pandas.pydata.org/pandas-docs/stable/user_guide/indexing.html#returning-a-view-versus-a-copy\n",
            "  df_xyz['X_descen'] = df_xyz.sort_values(by='X', ascending=False)['X'].reset_index(drop=True) # 원본 X 열 내림차순 정렬\n",
            "<ipython-input-15-01f16c2ecdb6>:2: SettingWithCopyWarning: \n",
            "A value is trying to be set on a copy of a slice from a DataFrame.\n",
            "Try using .loc[row_indexer,col_indexer] = value instead\n",
            "\n",
            "See the caveats in the documentation: https://pandas.pydata.org/pandas-docs/stable/user_guide/indexing.html#returning-a-view-versus-a-copy\n",
            "  df_xyz['X_ascen'] = df_xyz.sort_values(by='X', ascending=True)['X'].reset_index(drop=True) # 원본 X 열 오름차순 정렬\n",
            "<ipython-input-15-01f16c2ecdb6>:3: SettingWithCopyWarning: \n",
            "A value is trying to be set on a copy of a slice from a DataFrame.\n",
            "Try using .loc[row_indexer,col_indexer] = value instead\n",
            "\n",
            "See the caveats in the documentation: https://pandas.pydata.org/pandas-docs/stable/user_guide/indexing.html#returning-a-view-versus-a-copy\n",
            "  df_xyz['Y_descen'] = df_xyz.sort_values(by='Y', ascending=False)['Y'].reset_index(drop=True) # 원본 Y 열 내림차순 정렬\n",
            "<ipython-input-15-01f16c2ecdb6>:4: SettingWithCopyWarning: \n",
            "A value is trying to be set on a copy of a slice from a DataFrame.\n",
            "Try using .loc[row_indexer,col_indexer] = value instead\n",
            "\n",
            "See the caveats in the documentation: https://pandas.pydata.org/pandas-docs/stable/user_guide/indexing.html#returning-a-view-versus-a-copy\n",
            "  df_xyz['Y_ascen'] = df_xyz.sort_values(by='Y', ascending=True)['Y'].reset_index(drop=True) # 원본 Y 열 오름차순 정렬\n",
            "<ipython-input-15-01f16c2ecdb6>:5: SettingWithCopyWarning: \n",
            "A value is trying to be set on a copy of a slice from a DataFrame.\n",
            "Try using .loc[row_indexer,col_indexer] = value instead\n",
            "\n",
            "See the caveats in the documentation: https://pandas.pydata.org/pandas-docs/stable/user_guide/indexing.html#returning-a-view-versus-a-copy\n",
            "  df_xyz['Z_descen'] = df_xyz.sort_values(by='Z', ascending=False)['Z'].reset_index(drop=True) # 원본 Z 열 내림차순 정렬\n",
            "<ipython-input-15-01f16c2ecdb6>:6: SettingWithCopyWarning: \n",
            "A value is trying to be set on a copy of a slice from a DataFrame.\n",
            "Try using .loc[row_indexer,col_indexer] = value instead\n",
            "\n",
            "See the caveats in the documentation: https://pandas.pydata.org/pandas-docs/stable/user_guide/indexing.html#returning-a-view-versus-a-copy\n",
            "  df_xyz['Z_ascen'] = df_xyz.sort_values(by='Z', ascending=True)['Z'].reset_index(drop=True) # 원본 Z 열 오름차순 정렬\n"
          ]
        },
        {
          "output_type": "display_data",
          "data": {
            "text/plain": [
              "'각 열의 상위 20개 데이터(좌표):'"
            ],
            "application/vnd.google.colaboratory.intrinsic+json": {
              "type": "string"
            }
          },
          "metadata": {}
        },
        {
          "output_type": "display_data",
          "data": {
            "text/plain": [
              "       X     Y      Z  X_descen  X_ascen  Y_descen  Y_ascen  Z_descen  Z_ascen\n",
              "0    1.9  -2.6   -3.1      49.7    -74.7      34.8    -80.1     103.2    -92.3\n",
              "1   -0.1   0.0   -8.9      38.9    -53.2      27.3    -59.7      61.7    -59.5\n",
              "2    3.1  -5.1   -6.2      26.4    -34.3      22.3    -41.7      51.4    -26.3\n",
              "3  -13.9   4.7  -26.3      26.4    -31.4      19.1    -38.7      45.6    -23.5\n",
              "4    0.1 -10.0  -12.9      26.4    -30.2      13.3    -17.8      35.2    -17.6\n",
              "5   -6.8   8.1    3.6      25.6    -26.4      11.7    -17.2      19.7    -14.1\n",
              "6  -16.5 -80.1  -92.3      23.8    -16.5       9.4    -15.7      19.1    -13.7\n",
              "7  -53.2 -41.7  -59.5      23.2    -13.9       9.3    -14.6      18.8    -12.9\n",
              "8  -26.4   4.4   -4.3      21.4     -7.7       8.3    -14.0      18.6    -10.9\n",
              "9   -4.2  -8.9   -6.9      20.7     -6.8       8.3    -13.7      17.8    -10.2\n",
              "10  -7.7  -8.3   -6.3      20.4     -5.9       8.3    -12.9      17.7     -9.2\n",
              "11  -4.3  -9.4   -3.0      17.6     -4.3       8.1    -10.0      17.6     -9.1\n",
              "12 -74.7  -0.5   35.2      17.4     -4.2       7.5    -10.0      17.1     -8.9\n",
              "13 -30.2  -8.2   15.0      17.2     -2.5       6.9     -9.9      16.7     -7.8\n",
              "14  -5.9 -38.7    4.8      16.2     -1.3       6.8     -9.4      15.3     -6.9\n",
              "15   2.0  -9.2   -1.9      16.1     -0.1       6.5     -9.2      15.0     -6.7\n",
              "16   2.9  -7.1   -2.6      15.7      0.1       6.5     -8.9      12.1     -6.6\n",
              "17 -34.3 -59.7   61.7      15.0      0.6       6.3     -8.6      10.0     -6.5\n",
              "18   0.6  -4.8    0.7      14.7      1.0       4.7     -8.3       6.5     -6.3\n",
              "19 -31.4 -12.9  103.2      13.6      1.5       4.7     -8.2       6.3     -6.2"
            ],
            "text/html": [
              "\n",
              "  <div id=\"df-029011f4-a32c-478f-bfd3-ff1093c28dd8\">\n",
              "    <div class=\"colab-df-container\">\n",
              "      <div>\n",
              "<style scoped>\n",
              "    .dataframe tbody tr th:only-of-type {\n",
              "        vertical-align: middle;\n",
              "    }\n",
              "\n",
              "    .dataframe tbody tr th {\n",
              "        vertical-align: top;\n",
              "    }\n",
              "\n",
              "    .dataframe thead th {\n",
              "        text-align: right;\n",
              "    }\n",
              "</style>\n",
              "<table border=\"1\" class=\"dataframe\">\n",
              "  <thead>\n",
              "    <tr style=\"text-align: right;\">\n",
              "      <th></th>\n",
              "      <th>X</th>\n",
              "      <th>Y</th>\n",
              "      <th>Z</th>\n",
              "      <th>X_descen</th>\n",
              "      <th>X_ascen</th>\n",
              "      <th>Y_descen</th>\n",
              "      <th>Y_ascen</th>\n",
              "      <th>Z_descen</th>\n",
              "      <th>Z_ascen</th>\n",
              "    </tr>\n",
              "  </thead>\n",
              "  <tbody>\n",
              "    <tr>\n",
              "      <th>0</th>\n",
              "      <td>1.9</td>\n",
              "      <td>-2.6</td>\n",
              "      <td>-3.1</td>\n",
              "      <td>49.7</td>\n",
              "      <td>-74.7</td>\n",
              "      <td>34.8</td>\n",
              "      <td>-80.1</td>\n",
              "      <td>103.2</td>\n",
              "      <td>-92.3</td>\n",
              "    </tr>\n",
              "    <tr>\n",
              "      <th>1</th>\n",
              "      <td>-0.1</td>\n",
              "      <td>0.0</td>\n",
              "      <td>-8.9</td>\n",
              "      <td>38.9</td>\n",
              "      <td>-53.2</td>\n",
              "      <td>27.3</td>\n",
              "      <td>-59.7</td>\n",
              "      <td>61.7</td>\n",
              "      <td>-59.5</td>\n",
              "    </tr>\n",
              "    <tr>\n",
              "      <th>2</th>\n",
              "      <td>3.1</td>\n",
              "      <td>-5.1</td>\n",
              "      <td>-6.2</td>\n",
              "      <td>26.4</td>\n",
              "      <td>-34.3</td>\n",
              "      <td>22.3</td>\n",
              "      <td>-41.7</td>\n",
              "      <td>51.4</td>\n",
              "      <td>-26.3</td>\n",
              "    </tr>\n",
              "    <tr>\n",
              "      <th>3</th>\n",
              "      <td>-13.9</td>\n",
              "      <td>4.7</td>\n",
              "      <td>-26.3</td>\n",
              "      <td>26.4</td>\n",
              "      <td>-31.4</td>\n",
              "      <td>19.1</td>\n",
              "      <td>-38.7</td>\n",
              "      <td>45.6</td>\n",
              "      <td>-23.5</td>\n",
              "    </tr>\n",
              "    <tr>\n",
              "      <th>4</th>\n",
              "      <td>0.1</td>\n",
              "      <td>-10.0</td>\n",
              "      <td>-12.9</td>\n",
              "      <td>26.4</td>\n",
              "      <td>-30.2</td>\n",
              "      <td>13.3</td>\n",
              "      <td>-17.8</td>\n",
              "      <td>35.2</td>\n",
              "      <td>-17.6</td>\n",
              "    </tr>\n",
              "    <tr>\n",
              "      <th>5</th>\n",
              "      <td>-6.8</td>\n",
              "      <td>8.1</td>\n",
              "      <td>3.6</td>\n",
              "      <td>25.6</td>\n",
              "      <td>-26.4</td>\n",
              "      <td>11.7</td>\n",
              "      <td>-17.2</td>\n",
              "      <td>19.7</td>\n",
              "      <td>-14.1</td>\n",
              "    </tr>\n",
              "    <tr>\n",
              "      <th>6</th>\n",
              "      <td>-16.5</td>\n",
              "      <td>-80.1</td>\n",
              "      <td>-92.3</td>\n",
              "      <td>23.8</td>\n",
              "      <td>-16.5</td>\n",
              "      <td>9.4</td>\n",
              "      <td>-15.7</td>\n",
              "      <td>19.1</td>\n",
              "      <td>-13.7</td>\n",
              "    </tr>\n",
              "    <tr>\n",
              "      <th>7</th>\n",
              "      <td>-53.2</td>\n",
              "      <td>-41.7</td>\n",
              "      <td>-59.5</td>\n",
              "      <td>23.2</td>\n",
              "      <td>-13.9</td>\n",
              "      <td>9.3</td>\n",
              "      <td>-14.6</td>\n",
              "      <td>18.8</td>\n",
              "      <td>-12.9</td>\n",
              "    </tr>\n",
              "    <tr>\n",
              "      <th>8</th>\n",
              "      <td>-26.4</td>\n",
              "      <td>4.4</td>\n",
              "      <td>-4.3</td>\n",
              "      <td>21.4</td>\n",
              "      <td>-7.7</td>\n",
              "      <td>8.3</td>\n",
              "      <td>-14.0</td>\n",
              "      <td>18.6</td>\n",
              "      <td>-10.9</td>\n",
              "    </tr>\n",
              "    <tr>\n",
              "      <th>9</th>\n",
              "      <td>-4.2</td>\n",
              "      <td>-8.9</td>\n",
              "      <td>-6.9</td>\n",
              "      <td>20.7</td>\n",
              "      <td>-6.8</td>\n",
              "      <td>8.3</td>\n",
              "      <td>-13.7</td>\n",
              "      <td>17.8</td>\n",
              "      <td>-10.2</td>\n",
              "    </tr>\n",
              "    <tr>\n",
              "      <th>10</th>\n",
              "      <td>-7.7</td>\n",
              "      <td>-8.3</td>\n",
              "      <td>-6.3</td>\n",
              "      <td>20.4</td>\n",
              "      <td>-5.9</td>\n",
              "      <td>8.3</td>\n",
              "      <td>-12.9</td>\n",
              "      <td>17.7</td>\n",
              "      <td>-9.2</td>\n",
              "    </tr>\n",
              "    <tr>\n",
              "      <th>11</th>\n",
              "      <td>-4.3</td>\n",
              "      <td>-9.4</td>\n",
              "      <td>-3.0</td>\n",
              "      <td>17.6</td>\n",
              "      <td>-4.3</td>\n",
              "      <td>8.1</td>\n",
              "      <td>-10.0</td>\n",
              "      <td>17.6</td>\n",
              "      <td>-9.1</td>\n",
              "    </tr>\n",
              "    <tr>\n",
              "      <th>12</th>\n",
              "      <td>-74.7</td>\n",
              "      <td>-0.5</td>\n",
              "      <td>35.2</td>\n",
              "      <td>17.4</td>\n",
              "      <td>-4.2</td>\n",
              "      <td>7.5</td>\n",
              "      <td>-10.0</td>\n",
              "      <td>17.1</td>\n",
              "      <td>-8.9</td>\n",
              "    </tr>\n",
              "    <tr>\n",
              "      <th>13</th>\n",
              "      <td>-30.2</td>\n",
              "      <td>-8.2</td>\n",
              "      <td>15.0</td>\n",
              "      <td>17.2</td>\n",
              "      <td>-2.5</td>\n",
              "      <td>6.9</td>\n",
              "      <td>-9.9</td>\n",
              "      <td>16.7</td>\n",
              "      <td>-7.8</td>\n",
              "    </tr>\n",
              "    <tr>\n",
              "      <th>14</th>\n",
              "      <td>-5.9</td>\n",
              "      <td>-38.7</td>\n",
              "      <td>4.8</td>\n",
              "      <td>16.2</td>\n",
              "      <td>-1.3</td>\n",
              "      <td>6.8</td>\n",
              "      <td>-9.4</td>\n",
              "      <td>15.3</td>\n",
              "      <td>-6.9</td>\n",
              "    </tr>\n",
              "    <tr>\n",
              "      <th>15</th>\n",
              "      <td>2.0</td>\n",
              "      <td>-9.2</td>\n",
              "      <td>-1.9</td>\n",
              "      <td>16.1</td>\n",
              "      <td>-0.1</td>\n",
              "      <td>6.5</td>\n",
              "      <td>-9.2</td>\n",
              "      <td>15.0</td>\n",
              "      <td>-6.7</td>\n",
              "    </tr>\n",
              "    <tr>\n",
              "      <th>16</th>\n",
              "      <td>2.9</td>\n",
              "      <td>-7.1</td>\n",
              "      <td>-2.6</td>\n",
              "      <td>15.7</td>\n",
              "      <td>0.1</td>\n",
              "      <td>6.5</td>\n",
              "      <td>-8.9</td>\n",
              "      <td>12.1</td>\n",
              "      <td>-6.6</td>\n",
              "    </tr>\n",
              "    <tr>\n",
              "      <th>17</th>\n",
              "      <td>-34.3</td>\n",
              "      <td>-59.7</td>\n",
              "      <td>61.7</td>\n",
              "      <td>15.0</td>\n",
              "      <td>0.6</td>\n",
              "      <td>6.3</td>\n",
              "      <td>-8.6</td>\n",
              "      <td>10.0</td>\n",
              "      <td>-6.5</td>\n",
              "    </tr>\n",
              "    <tr>\n",
              "      <th>18</th>\n",
              "      <td>0.6</td>\n",
              "      <td>-4.8</td>\n",
              "      <td>0.7</td>\n",
              "      <td>14.7</td>\n",
              "      <td>1.0</td>\n",
              "      <td>4.7</td>\n",
              "      <td>-8.3</td>\n",
              "      <td>6.5</td>\n",
              "      <td>-6.3</td>\n",
              "    </tr>\n",
              "    <tr>\n",
              "      <th>19</th>\n",
              "      <td>-31.4</td>\n",
              "      <td>-12.9</td>\n",
              "      <td>103.2</td>\n",
              "      <td>13.6</td>\n",
              "      <td>1.5</td>\n",
              "      <td>4.7</td>\n",
              "      <td>-8.2</td>\n",
              "      <td>6.3</td>\n",
              "      <td>-6.2</td>\n",
              "    </tr>\n",
              "  </tbody>\n",
              "</table>\n",
              "</div>\n",
              "      <button class=\"colab-df-convert\" onclick=\"convertToInteractive('df-029011f4-a32c-478f-bfd3-ff1093c28dd8')\"\n",
              "              title=\"Convert this dataframe to an interactive table.\"\n",
              "              style=\"display:none;\">\n",
              "        \n",
              "  <svg xmlns=\"http://www.w3.org/2000/svg\" height=\"24px\"viewBox=\"0 0 24 24\"\n",
              "       width=\"24px\">\n",
              "    <path d=\"M0 0h24v24H0V0z\" fill=\"none\"/>\n",
              "    <path d=\"M18.56 5.44l.94 2.06.94-2.06 2.06-.94-2.06-.94-.94-2.06-.94 2.06-2.06.94zm-11 1L8.5 8.5l.94-2.06 2.06-.94-2.06-.94L8.5 2.5l-.94 2.06-2.06.94zm10 10l.94 2.06.94-2.06 2.06-.94-2.06-.94-.94-2.06-.94 2.06-2.06.94z\"/><path d=\"M17.41 7.96l-1.37-1.37c-.4-.4-.92-.59-1.43-.59-.52 0-1.04.2-1.43.59L10.3 9.45l-7.72 7.72c-.78.78-.78 2.05 0 2.83L4 21.41c.39.39.9.59 1.41.59.51 0 1.02-.2 1.41-.59l7.78-7.78 2.81-2.81c.8-.78.8-2.07 0-2.86zM5.41 20L4 18.59l7.72-7.72 1.47 1.35L5.41 20z\"/>\n",
              "  </svg>\n",
              "      </button>\n",
              "      \n",
              "  <style>\n",
              "    .colab-df-container {\n",
              "      display:flex;\n",
              "      flex-wrap:wrap;\n",
              "      gap: 12px;\n",
              "    }\n",
              "\n",
              "    .colab-df-convert {\n",
              "      background-color: #E8F0FE;\n",
              "      border: none;\n",
              "      border-radius: 50%;\n",
              "      cursor: pointer;\n",
              "      display: none;\n",
              "      fill: #1967D2;\n",
              "      height: 32px;\n",
              "      padding: 0 0 0 0;\n",
              "      width: 32px;\n",
              "    }\n",
              "\n",
              "    .colab-df-convert:hover {\n",
              "      background-color: #E2EBFA;\n",
              "      box-shadow: 0px 1px 2px rgba(60, 64, 67, 0.3), 0px 1px 3px 1px rgba(60, 64, 67, 0.15);\n",
              "      fill: #174EA6;\n",
              "    }\n",
              "\n",
              "    [theme=dark] .colab-df-convert {\n",
              "      background-color: #3B4455;\n",
              "      fill: #D2E3FC;\n",
              "    }\n",
              "\n",
              "    [theme=dark] .colab-df-convert:hover {\n",
              "      background-color: #434B5C;\n",
              "      box-shadow: 0px 1px 3px 1px rgba(0, 0, 0, 0.15);\n",
              "      filter: drop-shadow(0px 1px 2px rgba(0, 0, 0, 0.3));\n",
              "      fill: #FFFFFF;\n",
              "    }\n",
              "  </style>\n",
              "\n",
              "      <script>\n",
              "        const buttonEl =\n",
              "          document.querySelector('#df-029011f4-a32c-478f-bfd3-ff1093c28dd8 button.colab-df-convert');\n",
              "        buttonEl.style.display =\n",
              "          google.colab.kernel.accessAllowed ? 'block' : 'none';\n",
              "\n",
              "        async function convertToInteractive(key) {\n",
              "          const element = document.querySelector('#df-029011f4-a32c-478f-bfd3-ff1093c28dd8');\n",
              "          const dataTable =\n",
              "            await google.colab.kernel.invokeFunction('convertToInteractive',\n",
              "                                                     [key], {});\n",
              "          if (!dataTable) return;\n",
              "\n",
              "          const docLinkHtml = 'Like what you see? Visit the ' +\n",
              "            '<a target=\"_blank\" href=https://colab.research.google.com/notebooks/data_table.ipynb>data table notebook</a>'\n",
              "            + ' to learn more about interactive tables.';\n",
              "          element.innerHTML = '';\n",
              "          dataTable['output_type'] = 'display_data';\n",
              "          await google.colab.output.renderOutput(dataTable, element);\n",
              "          const docLink = document.createElement('div');\n",
              "          docLink.innerHTML = docLinkHtml;\n",
              "          element.appendChild(docLink);\n",
              "        }\n",
              "      </script>\n",
              "    </div>\n",
              "  </div>\n",
              "  "
            ]
          },
          "metadata": {}
        }
      ]
    },
    {
      "cell_type": "markdown",
      "source": [
        "*   원본인 X, Y, Z 열의 데이터(좌표)에서 -30 ~ 30으로 한정된 구상성단만 추출합니다.\n",
        "*   변환된 X, Y, Z 열의 구성성단 분포 데이터(좌표)의 최솟값, 최댓값을 확인합니다."
      ],
      "metadata": {
        "id": "BgMKwZy3je7Y"
      }
    },
    {
      "cell_type": "code",
      "source": [
        "df_xyz1 = df_xyz[(df_xyz['X'] > -30) & (df_xyz['X'] < 30)] # X 열의 데이터(좌표)가 -30 ~ 30으로 한정된 구상성단만 추출\n",
        "df_xyz2 = df_xyz1[(df_xyz1['Y'] > -30) & (df_xyz1['Y'] < 30)] # Y 열의 데이터(좌표)가 -30 ~ 30으로 한정된 구상성단만 추출\n",
        "df_xyz3 = df_xyz2[(df_xyz2['Z'] > -30) & (df_xyz2['Z'] < 30)] # Z 열의 데이터(좌표)가 -30 ~ 30으로 한정된 구상성단만 추출\n",
        " \n",
        "X1 = df_xyz3['X'] # 새롭게 변환된 X 열 -> 변수 X1에 저장\n",
        "Y1 = df_xyz3['Y'] # 새롭게 변환된 Y 열 -> 변수 Y1에 저장\n",
        "Z1 = df_xyz3['Z'] # 새롭게 변환된 Z 열 -> 변수 Z1에 저장\n",
        "\n",
        "print('변환된 X 열(x축)에서 구상성단 분포 데이터(좌표)의 최솟값, 최댓값:', X1.min(), X1.max()) # 변환된 X 열(변수 X1)의 최솟값, 최댓값\n",
        "print('변환된 Y 열(y축)에서 구상성단 분포 데이터(좌표)의 최솟값, 최댓값:', Y1.min(), Y1.max()) # 변환된 Y 열(변수 Y1)의 최솟값, 최댓값\n",
        "print('변환된 Z 열(z축)에서 구상성단 분포 데이터(좌표)의 최솟값, 최댓값:', Z1.min(), Z1.max()) # 변환된 Z 열(변수 Z1)의 최솟값, 최댓값\n",
        "print('변환된 X, Y, Z 열 구상성단 개수:', X1.size, Y1.size, Z1.size) # 변환된 X(변수 X1), Y(변수 Y1), Z(변수 Z1) 열의 구상성단 개수"
      ],
      "metadata": {
        "colab": {
          "base_uri": "https://localhost:8080/"
        },
        "id": "GwLsrFpaU2M4",
        "outputId": "87ff0384-9f02-419a-8bcd-ae530461b758"
      },
      "execution_count": 16,
      "outputs": [
        {
          "output_type": "stream",
          "name": "stdout",
          "text": [
            "변환된 X 열(x축)에서 구상성단 분포 데이터(좌표)의 최솟값, 최댓값: -26.4 26.4\n",
            "변환된 Y 열(y축)에서 구상성단 분포 데이터(좌표)의 최솟값, 최댓값: -17.8 22.3\n",
            "변환된 Z 열(z축)에서 구상성단 분포 데이터(좌표)의 최솟값, 최댓값: -26.3 19.7\n",
            "변환된 X, Y, Z 열 구상성단 개수: 146 146 146\n"
          ]
        }
      ]
    },
    {
      "cell_type": "markdown",
      "source": [
        "## **3b.1 데이터 시각화**"
      ],
      "metadata": {
        "id": "ry7l4uzOiqnB"
      }
    },
    {
      "cell_type": "markdown",
      "source": [
        "### **3b.1.1 변환된 x, y, z축 데이터(좌표)를 통해 구상성단 분포 시각화**"
      ],
      "metadata": {
        "id": "UA4Fdy6DZxqe"
      }
    },
    {
      "cell_type": "markdown",
      "source": [
        "*   위에서 만든 visualization 함수에 변환된 x, y, z축 데이터(좌표)가 담긴 변수 X1, Y1, Z1을 입력하여 구상성단의 분포를 확인합니다."
      ],
      "metadata": {
        "id": "wVc46-JG9qWo"
      }
    },
    {
      "cell_type": "code",
      "source": [
        "visualization(X1, Y1, Z1)"
      ],
      "metadata": {
        "colab": {
          "base_uri": "https://localhost:8080/",
          "height": 914
        },
        "id": "ooq3LwCy4DLS",
        "outputId": "1db4bb15-dcf3-43ee-b2cd-ed0a1ec6ae6c"
      },
      "execution_count": 17,
      "outputs": [
        {
          "output_type": "display_data",
          "data": {
            "text/plain": [
              "<Figure size 1080x1080 with 4 Axes>"
            ],
            "image/png": "[encoded data removed]"
          },
          "metadata": {
            "needs_background": "light"
          }
        }
      ]
    },
    {
      "cell_type": "markdown",
      "source": [
        "## **3b.2 데이터 수치 분석**"
      ],
      "metadata": {
        "id": "bjwMzQv0FKns"
      }
    },
    {
      "cell_type": "markdown",
      "source": [
        "### **3b.2.1 변환된 x, y, z축 데이터(좌표)를 통해 우리은하 질량 중심 찾기 & 태양계로부터 우리은하 중심까지의 거리 구하기**"
      ],
      "metadata": {
        "id": "wZWHg41NFdQN"
      }
    },
    {
      "cell_type": "markdown",
      "source": [
        "*   위에서 만든 calculation 함수에 변환된 x, y, z축 데이터(좌표)가 담긴 변수 X1, Y1, Z1을 입력하여 우리은하 질량 중심 위치와 태양계로부터 우리은하 중심까지의 거리를 확인합니다."
      ],
      "metadata": {
        "id": "rkvDY0HDFFvr"
      }
    },
    {
      "cell_type": "code",
      "source": [
        "calculation(X1, Y1, Z1)"
      ],
      "metadata": {
        "colab": {
          "base_uri": "https://localhost:8080/"
        },
        "id": "9jDzMwUVE4aD",
        "outputId": "fc0e58a7-db87-46f4-9486-bacbacaa95f4"
      },
      "execution_count": 18,
      "outputs": [
        {
          "output_type": "stream",
          "name": "stdout",
          "text": [
            "x,y,z축 질량 중심(kpc): 7.45 -0.23 0.07\n",
            "우리은하 중심까지의 거리(kpc): 7.45\n",
            "x축 방향에서 구상성단 분포 데이터(좌표)의 최솟값, 최댓값, 직경(kpc): -26.40 26.40 52.80\n",
            "y축 방향에서 구상성단 분포 데이터(좌표)의 최솟값, 최댓값, 직경(kpc): -17.80 22.30 40.10\n",
            "z축 방향에서 구상성단 분포 데이터(좌표)의 최솟값, 최댓값, 직경(kpc): -26.30 19.70 46.00\n"
          ]
        }
      ]
    }
  ],
  "metadata": {
    "kernelspec": {
      "display_name": "Python 3 (ipykernel)",
      "language": "python",
      "name": "python3"
    },
    "language_info": {
      "codemirror_mode": {
        "name": "ipython",
        "version": 3
      },
      "file_extension": ".py",
      "mimetype": "text/x-python",
      "name": "python",
      "nbconvert_exporter": "python",
      "pygments_lexer": "ipython3",
      "version": "3.8.13"
    },
    "toc": {
      "base_numbering": 1,
      "nav_menu": {},
      "number_sections": true,
      "sideBar": true,
      "skip_h1_title": false,
      "title_cell": "Table of Contents",
      "title_sidebar": "Contents",
      "toc_cell": false,
      "toc_position": {},
      "toc_section_display": true,
      "toc_window_display": false
    },
    "varInspector": {
      "cols": {
        "lenName": 16,
        "lenType": 16,
        "lenVar": 40
      },
      "kernels_config": {
        "python": {
          "delete_cmd_postfix": "",
          "delete_cmd_prefix": "del ",
          "library": "var_list.py",
          "varRefreshCmd": "print(var_dic_list())"
        },
        "r": {
          "delete_cmd_postfix": ") ",
          "delete_cmd_prefix": "rm(",
          "library": "var_list.r",
          "varRefreshCmd": "cat(var_dic_list()) "
        }
      },
      "types_to_exclude": [
        "module",
        "function",
        "builtin_function_or_method",
        "instance",
        "_Feature"
      ],
      "window_display": false
    },
    "colab": {
      "provenance": [],
      "toc_visible": true
    }
  },
  "nbformat": 4,
  "nbformat_minor": 0
}